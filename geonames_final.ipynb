{
 "cells": [
  {
   "cell_type": "markdown",
   "id": "7e6dfde3",
   "metadata": {},
   "source": [
    "#   Проект: \"Сопоставление названий городов с унифицированными именами geonames\""
   ]
  },
  {
   "cell_type": "markdown",
   "id": "ea85b49b",
   "metadata": {},
   "source": [
    "Цель:\n",
    "\n",
    "- сопоставляет произвольное geo название с унифицированными именами geonames для внутреннего использования Карьерным центром.\n",
    "\n",
    "Задачи:\n",
    "- Создать решение для подбора наиболее подходящих названий с geonames.Например Ереван -> Yerevan;\n",
    "- На примере РФ и стран наиболее популярных для релокации - Беларусь, Армения, Казахстан, Кыргызстан, Турция, Сербия. Города с населением от 15000 человек (свозможностью масштабирования на сервере заказчика);\n",
    "- Возвращаемые поля geonameid, name, region, country, cosine similarity;\n",
    "- формат данных на выходе: список словарей, например [{dict_1}, {dict_2}, …. {dict_n}], где словарь - одна запись с указанными полями.\n",
    "\n",
    "Задачи опционально:\n",
    "- возможность настройки количества выдачи подходящих названий (например в параметрах метода);\n",
    "- коррекция ошибок и опечаток. Например Моченгорск -> Monchegorsk;\n",
    "- хранение в PostgreSQL данных geonames;\n",
    "- хранение векторизованных промежуточных данных в PostgreSQL;\n",
    "- предусмотреть методы для настройки подключения к БД;\n",
    "- предусмотреть метод для инициализации класса (первичная векторизация geonames);\n",
    "- предусмотреть методы для добавления векторов новых гео названий.\n",
    "\n",
    "Результат:\n",
    "1) тетрадка с решением задачи (описание проекта, исследование, методы решения).\n",
    "2) python-скрипт, содержащий функцию (класс), для интеграции в систему Заказчика.\n",
    "\n",
    "Описание данных:\n",
    "Используемые таблицы с geonames:\n",
    "- admin1CodesASCII\n",
    "- alternateNamesV2\n",
    "- cities15000\n",
    "- countryInfo\n",
    "- при необходимости любые другие открытые данные\n",
    "- таблицы geonames можно скачать здесь http://download.geonames.org/export/dump/\n",
    "- Тестовый датасет: https://disk.yandex.ru/d/wC296Rj3Yso2AQ"
   ]
  },
  {
   "cell_type": "markdown",
   "id": "5e1ace6b",
   "metadata": {},
   "source": [
    "## 1. Загрузка и анализ данных "
   ]
  },
  {
   "cell_type": "markdown",
   "id": "95286a09",
   "metadata": {},
   "source": [
    "### 1.1 Установка необходимых библиотек"
   ]
  },
  {
   "cell_type": "code",
   "execution_count": 1,
   "id": "65ac95fe",
   "metadata": {},
   "outputs": [
    {
     "name": "stdout",
     "output_type": "stream",
     "text": [
      "Requirement already satisfied: SQLAlchemy in c:\\users\\aleksey\\anaconda3\\lib\\site-packages (1.4.39)\n",
      "Requirement already satisfied: greenlet!=0.4.17 in c:\\users\\aleksey\\anaconda3\\lib\\site-packages (from SQLAlchemy) (2.0.1)\n",
      "Note: you may need to restart the kernel to use updated packages.\n"
     ]
    }
   ],
   "source": [
    "pip install SQLAlchemy"
   ]
  },
  {
   "cell_type": "code",
   "execution_count": 2,
   "id": "d4b746c5",
   "metadata": {},
   "outputs": [
    {
     "name": "stdout",
     "output_type": "stream",
     "text": [
      "Collecting psycopg2\n",
      "  Downloading psycopg2-2.9.9-cp310-cp310-win_amd64.whl (1.2 MB)\n",
      "     ---------------------------------------- 1.2/1.2 MB 2.8 MB/s eta 0:00:00\n",
      "Installing collected packages: psycopg2\n",
      "Successfully installed psycopg2-2.9.9\n",
      "Note: you may need to restart the kernel to use updated packages.\n"
     ]
    }
   ],
   "source": [
    "pip install psycopg2"
   ]
  },
  {
   "cell_type": "markdown",
   "id": "78e815a2",
   "metadata": {},
   "source": [
    "### 1.2 Загрузка необходимых библиотек"
   ]
  },
  {
   "cell_type": "code",
   "execution_count": 3,
   "id": "048e1030",
   "metadata": {},
   "outputs": [],
   "source": [
    "#общие\n",
    "import pandas as pd\n",
    "import numpy as np\n",
    "import re\n",
    "import warnings\n",
    "warnings.filterwarnings('ignore')\n",
    "\n",
    "\n",
    "#для работы с базами данных\n",
    "from sqlalchemy import create_engine\n",
    "from sqlalchemy.engine.url import URL\n",
    "from sqlalchemy import create_engine, ARRAY, Float\n",
    "\n",
    "#для преобразования в эмбединги\n",
    "from sentence_transformers import SentenceTransformer\n",
    "\n",
    "#для нахождения косинусной похожести\n",
    "from sklearn.metrics.pairwise import cosine_similarity\n",
    "\n",
    "#транслитерация из кириллицы в латиницу\n",
    "from transliterate import translit\n",
    "\n",
    "#поиск ближайших соседей\n",
    "from scipy.spatial import cKDTree"
   ]
  },
  {
   "cell_type": "markdown",
   "id": "4349f334",
   "metadata": {},
   "source": [
    "### 1.3 Загрузка данных из базы данных"
   ]
  },
  {
   "cell_type": "code",
   "execution_count": 4,
   "id": "3f4c064b",
   "metadata": {},
   "outputs": [],
   "source": [
    "DATABASE = {\n",
    "    'drivername': 'postgresql',\n",
    "    'username': 'postgres', \n",
    "    'password': '******', \n",
    "    'host': 'localhost',\n",
    "    'port': 5432,\n",
    "    'database': 'geonames',\n",
    "    'query': {}\n",
    "}  "
   ]
  },
  {
   "cell_type": "code",
   "execution_count": 5,
   "id": "1a7758b1",
   "metadata": {},
   "outputs": [],
   "source": [
    "engine = create_engine(URL(**DATABASE))"
   ]
  },
  {
   "cell_type": "markdown",
   "id": "21c50ec2",
   "metadata": {},
   "source": [
    "#### Все необходимые для выполнения задания данные находятся в файле таблице geoname. Загрузим необходимые нам страны и отфильтруем города с населением более 15000."
   ]
  },
  {
   "cell_type": "code",
   "execution_count": 6,
   "id": "56cfb007",
   "metadata": {},
   "outputs": [],
   "source": [
    "query = \"SELECT geonameid, name, alternatenames, country, admin1,\\\n",
    "       CASE \\\n",
    "WHEN country = 'RU' THEN 'RUSSIA' \\\n",
    "WHEN country = 'BY' THEN 'BELORUSSIA'\\\n",
    "WHEN country = 'AM' THEN 'ARMENIA'\\\n",
    "WHEN country = 'KZ' THEN 'KAZAHSTAN'\\\n",
    "WHEN country = 'KG' THEN 'KYRGYZSTAN'\\\n",
    "WHEN country = 'TR' THEN 'TURKEY' \\\n",
    "WHEN country = 'RS' THEN 'SERBIA' \\\n",
    "END AS country_ \\\n",
    "FROM geoname \\\n",
    "WHERE country IN ('RU', 'BY', 'AM', 'KZ','KG','TR','RS') and population > 15000\" \n",
    "\n",
    "df = pd.read_sql_query(query, con=engine)"
   ]
  },
  {
   "cell_type": "code",
   "execution_count": 7,
   "id": "69eed78d",
   "metadata": {},
   "outputs": [
    {
     "data": {
      "text/html": [
       "<div>\n",
       "<style scoped>\n",
       "    .dataframe tbody tr th:only-of-type {\n",
       "        vertical-align: middle;\n",
       "    }\n",
       "\n",
       "    .dataframe tbody tr th {\n",
       "        vertical-align: top;\n",
       "    }\n",
       "\n",
       "    .dataframe thead th {\n",
       "        text-align: right;\n",
       "    }\n",
       "</style>\n",
       "<table border=\"1\" class=\"dataframe\">\n",
       "  <thead>\n",
       "    <tr style=\"text-align: right;\">\n",
       "      <th></th>\n",
       "      <th>geonameid</th>\n",
       "      <th>name</th>\n",
       "      <th>alternatenames</th>\n",
       "      <th>country</th>\n",
       "      <th>admin1</th>\n",
       "      <th>country_</th>\n",
       "    </tr>\n",
       "  </thead>\n",
       "  <tbody>\n",
       "    <tr>\n",
       "      <th>0</th>\n",
       "      <td>483882</td>\n",
       "      <td>Tbilisskiy Rayon</td>\n",
       "      <td>Tbilisskij Rajon,Tbilisskiy Rayon,Tbilissky Di...</td>\n",
       "      <td>RU</td>\n",
       "      <td>38</td>\n",
       "      <td>RUSSIA</td>\n",
       "    </tr>\n",
       "    <tr>\n",
       "      <th>1</th>\n",
       "      <td>483883</td>\n",
       "      <td>Tbilisskaya</td>\n",
       "      <td>Tbilisskaja,Tbilisskaya,Tiflisskaya,Тбилисская</td>\n",
       "      <td>RU</td>\n",
       "      <td>38</td>\n",
       "      <td>RUSSIA</td>\n",
       "    </tr>\n",
       "    <tr>\n",
       "      <th>2</th>\n",
       "      <td>484004</td>\n",
       "      <td>Tatyshlinskiy Rayon</td>\n",
       "      <td>Tatyshlinskij rajon,Tatyshlinsky District,Таты...</td>\n",
       "      <td>RU</td>\n",
       "      <td>08</td>\n",
       "      <td>RUSSIA</td>\n",
       "    </tr>\n",
       "    <tr>\n",
       "      <th>3</th>\n",
       "      <td>484016</td>\n",
       "      <td>Tatsinsky District</td>\n",
       "      <td>Tacinskij rajon,Tatsinsky,Таци́нский райо́н</td>\n",
       "      <td>RU</td>\n",
       "      <td>61</td>\n",
       "      <td>RUSSIA</td>\n",
       "    </tr>\n",
       "    <tr>\n",
       "      <th>4</th>\n",
       "      <td>484048</td>\n",
       "      <td>Tatarstan</td>\n",
       "      <td>Republique de Tatarstan,Respublika Tatarstan,R...</td>\n",
       "      <td>RU</td>\n",
       "      <td>73</td>\n",
       "      <td>RUSSIA</td>\n",
       "    </tr>\n",
       "    <tr>\n",
       "      <th>...</th>\n",
       "      <td>...</td>\n",
       "      <td>...</td>\n",
       "      <td>...</td>\n",
       "      <td>...</td>\n",
       "      <td>...</td>\n",
       "      <td>...</td>\n",
       "    </tr>\n",
       "    <tr>\n",
       "      <th>5214</th>\n",
       "      <td>483027</td>\n",
       "      <td>Tikhoretskiy Rayon</td>\n",
       "      <td>Tikhoreckij Rajon,Tikhoreckij rajon,Tikhoretsk...</td>\n",
       "      <td>RU</td>\n",
       "      <td>38</td>\n",
       "      <td>RUSSIA</td>\n",
       "    </tr>\n",
       "    <tr>\n",
       "      <th>5215</th>\n",
       "      <td>483029</td>\n",
       "      <td>Tikhoretsk</td>\n",
       "      <td>Cikharehck,Tichoreck,Tichoretsk,Tichorezk,Tich...</td>\n",
       "      <td>RU</td>\n",
       "      <td>38</td>\n",
       "      <td>RUSSIA</td>\n",
       "    </tr>\n",
       "    <tr>\n",
       "      <th>5216</th>\n",
       "      <td>483495</td>\n",
       "      <td>Terek</td>\n",
       "      <td>Terek,Терек</td>\n",
       "      <td>RU</td>\n",
       "      <td>22</td>\n",
       "      <td>RUSSIA</td>\n",
       "    </tr>\n",
       "    <tr>\n",
       "      <th>5217</th>\n",
       "      <td>483661</td>\n",
       "      <td>Temryuk</td>\n",
       "      <td>Temrjuk,Temryuk,Tyemryuk,Темрюк</td>\n",
       "      <td>RU</td>\n",
       "      <td>38</td>\n",
       "      <td>RUSSIA</td>\n",
       "    </tr>\n",
       "    <tr>\n",
       "      <th>5218</th>\n",
       "      <td>483826</td>\n",
       "      <td>Tekstil’shchiki</td>\n",
       "      <td>Poselok Tekstil'shchiki,Poselok Tekstil’shchik...</td>\n",
       "      <td>RU</td>\n",
       "      <td>48</td>\n",
       "      <td>RUSSIA</td>\n",
       "    </tr>\n",
       "  </tbody>\n",
       "</table>\n",
       "<p>5219 rows × 6 columns</p>\n",
       "</div>"
      ],
      "text/plain": [
       "      geonameid                 name  \\\n",
       "0        483882     Tbilisskiy Rayon   \n",
       "1        483883          Tbilisskaya   \n",
       "2        484004  Tatyshlinskiy Rayon   \n",
       "3        484016   Tatsinsky District   \n",
       "4        484048            Tatarstan   \n",
       "...         ...                  ...   \n",
       "5214     483027   Tikhoretskiy Rayon   \n",
       "5215     483029           Tikhoretsk   \n",
       "5216     483495                Terek   \n",
       "5217     483661              Temryuk   \n",
       "5218     483826      Tekstil’shchiki   \n",
       "\n",
       "                                         alternatenames country admin1  \\\n",
       "0     Tbilisskij Rajon,Tbilisskiy Rayon,Tbilissky Di...      RU     38   \n",
       "1        Tbilisskaja,Tbilisskaya,Tiflisskaya,Тбилисская      RU     38   \n",
       "2     Tatyshlinskij rajon,Tatyshlinsky District,Таты...      RU     08   \n",
       "3           Tacinskij rajon,Tatsinsky,Таци́нский райо́н      RU     61   \n",
       "4     Republique de Tatarstan,Respublika Tatarstan,R...      RU     73   \n",
       "...                                                 ...     ...    ...   \n",
       "5214  Tikhoreckij Rajon,Tikhoreckij rajon,Tikhoretsk...      RU     38   \n",
       "5215  Cikharehck,Tichoreck,Tichoretsk,Tichorezk,Tich...      RU     38   \n",
       "5216                                        Terek,Терек      RU     22   \n",
       "5217                    Temrjuk,Temryuk,Tyemryuk,Темрюк      RU     38   \n",
       "5218  Poselok Tekstil'shchiki,Poselok Tekstil’shchik...      RU     48   \n",
       "\n",
       "     country_  \n",
       "0      RUSSIA  \n",
       "1      RUSSIA  \n",
       "2      RUSSIA  \n",
       "3      RUSSIA  \n",
       "4      RUSSIA  \n",
       "...       ...  \n",
       "5214   RUSSIA  \n",
       "5215   RUSSIA  \n",
       "5216   RUSSIA  \n",
       "5217   RUSSIA  \n",
       "5218   RUSSIA  \n",
       "\n",
       "[5219 rows x 6 columns]"
      ]
     },
     "execution_count": 7,
     "metadata": {},
     "output_type": "execute_result"
    }
   ],
   "source": [
    "df"
   ]
  },
  {
   "cell_type": "markdown",
   "id": "8d4c953b",
   "metadata": {},
   "source": [
    "### 1.4 Исследовательский анализ и обработка данных"
   ]
  },
  {
   "cell_type": "code",
   "execution_count": 8,
   "id": "b17a1acd",
   "metadata": {},
   "outputs": [
    {
     "name": "stdout",
     "output_type": "stream",
     "text": [
      "<class 'pandas.core.frame.DataFrame'>\n",
      "RangeIndex: 5219 entries, 0 to 5218\n",
      "Data columns (total 6 columns):\n",
      " #   Column          Non-Null Count  Dtype \n",
      "---  ------          --------------  ----- \n",
      " 0   geonameid       5219 non-null   int64 \n",
      " 1   name            5219 non-null   object\n",
      " 2   alternatenames  4976 non-null   object\n",
      " 3   country         5219 non-null   object\n",
      " 4   admin1          5219 non-null   object\n",
      " 5   country_        5219 non-null   object\n",
      "dtypes: int64(1), object(5)\n",
      "memory usage: 244.8+ KB\n"
     ]
    }
   ],
   "source": [
    "df.info()"
   ]
  },
  {
   "cell_type": "code",
   "execution_count": 11,
   "id": "715b610d",
   "metadata": {},
   "outputs": [
    {
     "data": {
      "text/plain": [
       "geonameid         1711\n",
       "name              1711\n",
       "alternatenames    1692\n",
       "country           1711\n",
       "admin1            1711\n",
       "country_          1711\n",
       "dtype: int64"
      ]
     },
     "execution_count": 11,
     "metadata": {},
     "output_type": "execute_result"
    }
   ],
   "source": [
    "df[df.duplicated(['geonameid', 'name'])].count()"
   ]
  },
  {
   "cell_type": "markdown",
   "id": "f9958e16",
   "metadata": {},
   "source": [
    "Как видно  в столбце alternatenames присутствуют пропуски, а по основным столбцам - 'geonameid', 'name' есть дубликаты.\n",
    "Регион определим из двух столбцов основной таблицы - 'country' и 'admin1'."
   ]
  },
  {
   "cell_type": "code",
   "execution_count": 12,
   "id": "916934c4",
   "metadata": {},
   "outputs": [],
   "source": [
    "df['admin1'] = df['admin1'].astype(str)\n",
    "df['country'] = df['country'].astype(str)"
   ]
  },
  {
   "cell_type": "code",
   "execution_count": 13,
   "id": "ff418d2e",
   "metadata": {},
   "outputs": [],
   "source": [
    "df['region'] = df['country']+ '.' + df['admin1'] "
   ]
  },
  {
   "cell_type": "markdown",
   "id": "2dee8743",
   "metadata": {},
   "source": [
    "Удалим ненужыне нам столбцы."
   ]
  },
  {
   "cell_type": "code",
   "execution_count": 14,
   "id": "73dc9233",
   "metadata": {},
   "outputs": [],
   "source": [
    "df = df.drop(['country', 'admin1'], axis=1)"
   ]
  },
  {
   "cell_type": "code",
   "execution_count": 15,
   "id": "9acbc449",
   "metadata": {},
   "outputs": [
    {
     "data": {
      "text/html": [
       "<div>\n",
       "<style scoped>\n",
       "    .dataframe tbody tr th:only-of-type {\n",
       "        vertical-align: middle;\n",
       "    }\n",
       "\n",
       "    .dataframe tbody tr th {\n",
       "        vertical-align: top;\n",
       "    }\n",
       "\n",
       "    .dataframe thead th {\n",
       "        text-align: right;\n",
       "    }\n",
       "</style>\n",
       "<table border=\"1\" class=\"dataframe\">\n",
       "  <thead>\n",
       "    <tr style=\"text-align: right;\">\n",
       "      <th></th>\n",
       "      <th>geonameid</th>\n",
       "      <th>name</th>\n",
       "      <th>alternatenames</th>\n",
       "      <th>country_</th>\n",
       "      <th>region</th>\n",
       "    </tr>\n",
       "  </thead>\n",
       "  <tbody>\n",
       "    <tr>\n",
       "      <th>0</th>\n",
       "      <td>483882</td>\n",
       "      <td>Tbilisskiy Rayon</td>\n",
       "      <td>Tbilisskij Rajon,Tbilisskiy Rayon,Tbilissky Di...</td>\n",
       "      <td>RUSSIA</td>\n",
       "      <td>RU.38</td>\n",
       "    </tr>\n",
       "    <tr>\n",
       "      <th>1</th>\n",
       "      <td>483883</td>\n",
       "      <td>Tbilisskaya</td>\n",
       "      <td>Tbilisskaja,Tbilisskaya,Tiflisskaya,Тбилисская</td>\n",
       "      <td>RUSSIA</td>\n",
       "      <td>RU.38</td>\n",
       "    </tr>\n",
       "    <tr>\n",
       "      <th>2</th>\n",
       "      <td>484004</td>\n",
       "      <td>Tatyshlinskiy Rayon</td>\n",
       "      <td>Tatyshlinskij rajon,Tatyshlinsky District,Таты...</td>\n",
       "      <td>RUSSIA</td>\n",
       "      <td>RU.08</td>\n",
       "    </tr>\n",
       "    <tr>\n",
       "      <th>3</th>\n",
       "      <td>484016</td>\n",
       "      <td>Tatsinsky District</td>\n",
       "      <td>Tacinskij rajon,Tatsinsky,Таци́нский райо́н</td>\n",
       "      <td>RUSSIA</td>\n",
       "      <td>RU.61</td>\n",
       "    </tr>\n",
       "    <tr>\n",
       "      <th>4</th>\n",
       "      <td>484048</td>\n",
       "      <td>Tatarstan</td>\n",
       "      <td>Republique de Tatarstan,Respublika Tatarstan,R...</td>\n",
       "      <td>RUSSIA</td>\n",
       "      <td>RU.73</td>\n",
       "    </tr>\n",
       "    <tr>\n",
       "      <th>...</th>\n",
       "      <td>...</td>\n",
       "      <td>...</td>\n",
       "      <td>...</td>\n",
       "      <td>...</td>\n",
       "      <td>...</td>\n",
       "    </tr>\n",
       "    <tr>\n",
       "      <th>5214</th>\n",
       "      <td>483027</td>\n",
       "      <td>Tikhoretskiy Rayon</td>\n",
       "      <td>Tikhoreckij Rajon,Tikhoreckij rajon,Tikhoretsk...</td>\n",
       "      <td>RUSSIA</td>\n",
       "      <td>RU.38</td>\n",
       "    </tr>\n",
       "    <tr>\n",
       "      <th>5215</th>\n",
       "      <td>483029</td>\n",
       "      <td>Tikhoretsk</td>\n",
       "      <td>Cikharehck,Tichoreck,Tichoretsk,Tichorezk,Tich...</td>\n",
       "      <td>RUSSIA</td>\n",
       "      <td>RU.38</td>\n",
       "    </tr>\n",
       "    <tr>\n",
       "      <th>5216</th>\n",
       "      <td>483495</td>\n",
       "      <td>Terek</td>\n",
       "      <td>Terek,Терек</td>\n",
       "      <td>RUSSIA</td>\n",
       "      <td>RU.22</td>\n",
       "    </tr>\n",
       "    <tr>\n",
       "      <th>5217</th>\n",
       "      <td>483661</td>\n",
       "      <td>Temryuk</td>\n",
       "      <td>Temrjuk,Temryuk,Tyemryuk,Темрюк</td>\n",
       "      <td>RUSSIA</td>\n",
       "      <td>RU.38</td>\n",
       "    </tr>\n",
       "    <tr>\n",
       "      <th>5218</th>\n",
       "      <td>483826</td>\n",
       "      <td>Tekstil’shchiki</td>\n",
       "      <td>Poselok Tekstil'shchiki,Poselok Tekstil’shchik...</td>\n",
       "      <td>RUSSIA</td>\n",
       "      <td>RU.48</td>\n",
       "    </tr>\n",
       "  </tbody>\n",
       "</table>\n",
       "<p>5219 rows × 5 columns</p>\n",
       "</div>"
      ],
      "text/plain": [
       "      geonameid                 name  \\\n",
       "0        483882     Tbilisskiy Rayon   \n",
       "1        483883          Tbilisskaya   \n",
       "2        484004  Tatyshlinskiy Rayon   \n",
       "3        484016   Tatsinsky District   \n",
       "4        484048            Tatarstan   \n",
       "...         ...                  ...   \n",
       "5214     483027   Tikhoretskiy Rayon   \n",
       "5215     483029           Tikhoretsk   \n",
       "5216     483495                Terek   \n",
       "5217     483661              Temryuk   \n",
       "5218     483826      Tekstil’shchiki   \n",
       "\n",
       "                                         alternatenames country_ region  \n",
       "0     Tbilisskij Rajon,Tbilisskiy Rayon,Tbilissky Di...   RUSSIA  RU.38  \n",
       "1        Tbilisskaja,Tbilisskaya,Tiflisskaya,Тбилисская   RUSSIA  RU.38  \n",
       "2     Tatyshlinskij rajon,Tatyshlinsky District,Таты...   RUSSIA  RU.08  \n",
       "3           Tacinskij rajon,Tatsinsky,Таци́нский райо́н   RUSSIA  RU.61  \n",
       "4     Republique de Tatarstan,Respublika Tatarstan,R...   RUSSIA  RU.73  \n",
       "...                                                 ...      ...    ...  \n",
       "5214  Tikhoreckij Rajon,Tikhoreckij rajon,Tikhoretsk...   RUSSIA  RU.38  \n",
       "5215  Cikharehck,Tichoreck,Tichoretsk,Tichorezk,Tich...   RUSSIA  RU.38  \n",
       "5216                                        Terek,Терек   RUSSIA  RU.22  \n",
       "5217                    Temrjuk,Temryuk,Tyemryuk,Темрюк   RUSSIA  RU.38  \n",
       "5218  Poselok Tekstil'shchiki,Poselok Tekstil’shchik...   RUSSIA  RU.48  \n",
       "\n",
       "[5219 rows x 5 columns]"
      ]
     },
     "execution_count": 15,
     "metadata": {},
     "output_type": "execute_result"
    }
   ],
   "source": [
    "df"
   ]
  },
  {
   "cell_type": "code",
   "execution_count": 16,
   "id": "f8e5cd48",
   "metadata": {},
   "outputs": [],
   "source": [
    "final_data = df.copy()"
   ]
  },
  {
   "cell_type": "code",
   "execution_count": 17,
   "id": "8d11a3df",
   "metadata": {},
   "outputs": [
    {
     "data": {
      "text/plain": [
       "(5219, 5)"
      ]
     },
     "execution_count": 17,
     "metadata": {},
     "output_type": "execute_result"
    }
   ],
   "source": [
    "final_data.shape"
   ]
  },
  {
   "cell_type": "code",
   "execution_count": 18,
   "id": "7730728a",
   "metadata": {},
   "outputs": [
    {
     "data": {
      "text/plain": [
       "geonameid         0.000000\n",
       "name              0.000000\n",
       "alternatenames    0.046561\n",
       "country_          0.000000\n",
       "region            0.000000\n",
       "dtype: float64"
      ]
     },
     "execution_count": 18,
     "metadata": {},
     "output_type": "execute_result"
    }
   ],
   "source": [
    "final_data.isna().mean()"
   ]
  },
  {
   "cell_type": "markdown",
   "id": "e7a8c2eb",
   "metadata": {},
   "source": [
    "Для пропусков альтернативных названий заполним 'no information'."
   ]
  },
  {
   "cell_type": "code",
   "execution_count": 19,
   "id": "55fd3df5",
   "metadata": {},
   "outputs": [],
   "source": [
    "final_data['alternatenames'] = final_data['alternatenames'].fillna('no information')"
   ]
  },
  {
   "cell_type": "markdown",
   "id": "74864cad",
   "metadata": {},
   "source": [
    "Избавимся от дубликатов по основным столбцам."
   ]
  },
  {
   "cell_type": "code",
   "execution_count": 20,
   "id": "688e0ae2",
   "metadata": {},
   "outputs": [],
   "source": [
    "final_data = final_data.drop_duplicates(['geonameid','name'])"
   ]
  },
  {
   "cell_type": "code",
   "execution_count": 21,
   "id": "be6b2cd3",
   "metadata": {},
   "outputs": [
    {
     "data": {
      "text/plain": [
       "(3508, 5)"
      ]
     },
     "execution_count": 21,
     "metadata": {},
     "output_type": "execute_result"
    }
   ],
   "source": [
    "final_data.shape"
   ]
  },
  {
   "cell_type": "markdown",
   "id": "2581755b",
   "metadata": {},
   "source": [
    "## 2. Загрузка модели и получение эмбедингов названий городов"
   ]
  },
  {
   "cell_type": "markdown",
   "id": "2ccb8c76",
   "metadata": {},
   "source": [
    "### 2.1 Для преобразования будем использовать предобученную модель LaBSE"
   ]
  },
  {
   "cell_type": "code",
   "execution_count": 22,
   "id": "61a26ac2",
   "metadata": {},
   "outputs": [],
   "source": [
    "model_new = SentenceTransformer('sentence-transformers/LaBSE')"
   ]
  },
  {
   "cell_type": "markdown",
   "id": "67a42181",
   "metadata": {},
   "source": [
    "Используем функцию удаляющую лишние символы и кодирующую названия городов"
   ]
  },
  {
   "cell_type": "code",
   "execution_count": 23,
   "id": "b4883088",
   "metadata": {},
   "outputs": [],
   "source": [
    "def preprocces_text(text: str) -> np.ndarray:\n",
    "    '''\n",
    "    Функция удаляет лишние символы и кодирует SentenceTransformer\n",
    "    '''\n",
    "    text = re.sub(r'[^\\w\\s\\']', ' ', text)\n",
    "    text = re.sub(r'[ \\n]+', ' ', text).strip().lower()\n",
    "    return model_new.encode(text)"
   ]
  },
  {
   "cell_type": "markdown",
   "id": "9b4cdb16",
   "metadata": {},
   "source": [
    "### 2.2 Получение эмбедингов"
   ]
  },
  {
   "cell_type": "code",
   "execution_count": 56,
   "id": "ad0832fa",
   "metadata": {},
   "outputs": [],
   "source": [
    "final_data['embedding'] = final_data['name'].apply(preprocces_text)"
   ]
  },
  {
   "cell_type": "code",
   "execution_count": 153,
   "id": "1f288509",
   "metadata": {},
   "outputs": [],
   "source": [
    "final_data = final_data.reset_index(drop = True)"
   ]
  },
  {
   "cell_type": "code",
   "execution_count": 154,
   "id": "23c20d78",
   "metadata": {},
   "outputs": [
    {
     "data": {
      "text/html": [
       "<div>\n",
       "<style scoped>\n",
       "    .dataframe tbody tr th:only-of-type {\n",
       "        vertical-align: middle;\n",
       "    }\n",
       "\n",
       "    .dataframe tbody tr th {\n",
       "        vertical-align: top;\n",
       "    }\n",
       "\n",
       "    .dataframe thead th {\n",
       "        text-align: right;\n",
       "    }\n",
       "</style>\n",
       "<table border=\"1\" class=\"dataframe\">\n",
       "  <thead>\n",
       "    <tr style=\"text-align: right;\">\n",
       "      <th></th>\n",
       "      <th>geonameid</th>\n",
       "      <th>name</th>\n",
       "      <th>alternatenames</th>\n",
       "      <th>country_</th>\n",
       "      <th>region</th>\n",
       "      <th>embedding</th>\n",
       "    </tr>\n",
       "  </thead>\n",
       "  <tbody>\n",
       "    <tr>\n",
       "      <th>0</th>\n",
       "      <td>483882</td>\n",
       "      <td>Tbilisskiy Rayon</td>\n",
       "      <td>Tbilisskij Rajon,Tbilisskiy Rayon,Tbilissky Di...</td>\n",
       "      <td>RUSSIA</td>\n",
       "      <td>RU.38</td>\n",
       "      <td>[0.048648756, 0.017007696, 0.056978054, -0.029...</td>\n",
       "    </tr>\n",
       "    <tr>\n",
       "      <th>1</th>\n",
       "      <td>483883</td>\n",
       "      <td>Tbilisskaya</td>\n",
       "      <td>Tbilisskaja,Tbilisskaya,Tiflisskaya,Тбилисская</td>\n",
       "      <td>RUSSIA</td>\n",
       "      <td>RU.38</td>\n",
       "      <td>[0.0526159, 0.0085247755, 0.041342884, -0.0331...</td>\n",
       "    </tr>\n",
       "    <tr>\n",
       "      <th>2</th>\n",
       "      <td>484004</td>\n",
       "      <td>Tatyshlinskiy Rayon</td>\n",
       "      <td>Tatyshlinskij rajon,Tatyshlinsky District,Таты...</td>\n",
       "      <td>RUSSIA</td>\n",
       "      <td>RU.08</td>\n",
       "      <td>[0.02076656, -0.02076974, 0.05847649, -0.04628...</td>\n",
       "    </tr>\n",
       "    <tr>\n",
       "      <th>3</th>\n",
       "      <td>484016</td>\n",
       "      <td>Tatsinsky District</td>\n",
       "      <td>Tacinskij rajon,Tatsinsky,Таци́нский райо́н</td>\n",
       "      <td>RUSSIA</td>\n",
       "      <td>RU.61</td>\n",
       "      <td>[0.040978085, -0.0077150585, 0.049177878, -0.0...</td>\n",
       "    </tr>\n",
       "    <tr>\n",
       "      <th>4</th>\n",
       "      <td>484048</td>\n",
       "      <td>Tatarstan</td>\n",
       "      <td>Republique de Tatarstan,Respublika Tatarstan,R...</td>\n",
       "      <td>RUSSIA</td>\n",
       "      <td>RU.73</td>\n",
       "      <td>[0.04620844, -0.02815654, 0.05455088, -0.04723...</td>\n",
       "    </tr>\n",
       "    <tr>\n",
       "      <th>...</th>\n",
       "      <td>...</td>\n",
       "      <td>...</td>\n",
       "      <td>...</td>\n",
       "      <td>...</td>\n",
       "      <td>...</td>\n",
       "      <td>...</td>\n",
       "    </tr>\n",
       "    <tr>\n",
       "      <th>3503</th>\n",
       "      <td>480041</td>\n",
       "      <td>Tver Oblast</td>\n",
       "      <td>Kalinin Oblast,Kalininskaya Oblast',Kalininska...</td>\n",
       "      <td>RUSSIA</td>\n",
       "      <td>RU.77</td>\n",
       "      <td>[0.062859476, 0.024384918, 0.032452673, -0.056...</td>\n",
       "    </tr>\n",
       "    <tr>\n",
       "      <th>3504</th>\n",
       "      <td>480508</td>\n",
       "      <td>Tula Oblast</td>\n",
       "      <td>Oblast Tula,Oblast de Toula,Tul'skaja Oblast',...</td>\n",
       "      <td>RUSSIA</td>\n",
       "      <td>RU.76</td>\n",
       "      <td>[0.044053428, 0.018218799, 0.00029260517, -0.0...</td>\n",
       "    </tr>\n",
       "    <tr>\n",
       "      <th>3505</th>\n",
       "      <td>481956</td>\n",
       "      <td>Totsky District</td>\n",
       "      <td>Tockij rajon,Totskiy Rayon,Totsky,То́цкий райо́н</td>\n",
       "      <td>RUSSIA</td>\n",
       "      <td>RU.55</td>\n",
       "      <td>[0.020389335, -0.046109002, 0.033921458, -0.03...</td>\n",
       "    </tr>\n",
       "    <tr>\n",
       "      <th>3506</th>\n",
       "      <td>482496</td>\n",
       "      <td>Tokarëvskiy Rayon</td>\n",
       "      <td>Tokarevskij Rajon,Tokarevskiy Rayon,Tokaryovsk...</td>\n",
       "      <td>RUSSIA</td>\n",
       "      <td>RU.72</td>\n",
       "      <td>[0.052405212, -0.05068418, 0.017585933, -0.055...</td>\n",
       "    </tr>\n",
       "    <tr>\n",
       "      <th>3507</th>\n",
       "      <td>483027</td>\n",
       "      <td>Tikhoretskiy Rayon</td>\n",
       "      <td>Tikhoreckij Rajon,Tikhoreckij rajon,Tikhoretsk...</td>\n",
       "      <td>RUSSIA</td>\n",
       "      <td>RU.38</td>\n",
       "      <td>[0.0570714, -0.0480615, 0.04152569, -0.0631427...</td>\n",
       "    </tr>\n",
       "  </tbody>\n",
       "</table>\n",
       "<p>3508 rows × 6 columns</p>\n",
       "</div>"
      ],
      "text/plain": [
       "      geonameid                 name  \\\n",
       "0        483882     Tbilisskiy Rayon   \n",
       "1        483883          Tbilisskaya   \n",
       "2        484004  Tatyshlinskiy Rayon   \n",
       "3        484016   Tatsinsky District   \n",
       "4        484048            Tatarstan   \n",
       "...         ...                  ...   \n",
       "3503     480041          Tver Oblast   \n",
       "3504     480508          Tula Oblast   \n",
       "3505     481956      Totsky District   \n",
       "3506     482496    Tokarëvskiy Rayon   \n",
       "3507     483027   Tikhoretskiy Rayon   \n",
       "\n",
       "                                         alternatenames country_ region  \\\n",
       "0     Tbilisskij Rajon,Tbilisskiy Rayon,Tbilissky Di...   RUSSIA  RU.38   \n",
       "1        Tbilisskaja,Tbilisskaya,Tiflisskaya,Тбилисская   RUSSIA  RU.38   \n",
       "2     Tatyshlinskij rajon,Tatyshlinsky District,Таты...   RUSSIA  RU.08   \n",
       "3           Tacinskij rajon,Tatsinsky,Таци́нский райо́н   RUSSIA  RU.61   \n",
       "4     Republique de Tatarstan,Respublika Tatarstan,R...   RUSSIA  RU.73   \n",
       "...                                                 ...      ...    ...   \n",
       "3503  Kalinin Oblast,Kalininskaya Oblast',Kalininska...   RUSSIA  RU.77   \n",
       "3504  Oblast Tula,Oblast de Toula,Tul'skaja Oblast',...   RUSSIA  RU.76   \n",
       "3505   Tockij rajon,Totskiy Rayon,Totsky,То́цкий райо́н   RUSSIA  RU.55   \n",
       "3506  Tokarevskij Rajon,Tokarevskiy Rayon,Tokaryovsk...   RUSSIA  RU.72   \n",
       "3507  Tikhoreckij Rajon,Tikhoreckij rajon,Tikhoretsk...   RUSSIA  RU.38   \n",
       "\n",
       "                                              embedding  \n",
       "0     [0.048648756, 0.017007696, 0.056978054, -0.029...  \n",
       "1     [0.0526159, 0.0085247755, 0.041342884, -0.0331...  \n",
       "2     [0.02076656, -0.02076974, 0.05847649, -0.04628...  \n",
       "3     [0.040978085, -0.0077150585, 0.049177878, -0.0...  \n",
       "4     [0.04620844, -0.02815654, 0.05455088, -0.04723...  \n",
       "...                                                 ...  \n",
       "3503  [0.062859476, 0.024384918, 0.032452673, -0.056...  \n",
       "3504  [0.044053428, 0.018218799, 0.00029260517, -0.0...  \n",
       "3505  [0.020389335, -0.046109002, 0.033921458, -0.03...  \n",
       "3506  [0.052405212, -0.05068418, 0.017585933, -0.055...  \n",
       "3507  [0.0570714, -0.0480615, 0.04152569, -0.0631427...  \n",
       "\n",
       "[3508 rows x 6 columns]"
      ]
     },
     "execution_count": 154,
     "metadata": {},
     "output_type": "execute_result"
    }
   ],
   "source": [
    "final_data"
   ]
  },
  {
   "cell_type": "code",
   "execution_count": 155,
   "id": "56423021",
   "metadata": {},
   "outputs": [],
   "source": [
    "final_data_str = final_data.copy()"
   ]
  },
  {
   "cell_type": "markdown",
   "id": "1c9bfd12",
   "metadata": {},
   "source": [
    "### 2.3 Загрузка дата фрейма с эмбедингами в базу данных"
   ]
  },
  {
   "cell_type": "code",
   "execution_count": 156,
   "id": "59180959",
   "metadata": {},
   "outputs": [],
   "source": [
    "final_data_str['embedding'] = final_data_str['embedding'].apply(lambda x: x.tolist() if isinstance(x, np.ndarray) else x)"
   ]
  },
  {
   "cell_type": "code",
   "execution_count": 157,
   "id": "b3119648",
   "metadata": {},
   "outputs": [
    {
     "data": {
      "text/plain": [
       "508"
      ]
     },
     "execution_count": 157,
     "metadata": {},
     "output_type": "execute_result"
    }
   ],
   "source": [
    "#Загрузка дата-фрейма с эмбедингами в базу данных \n",
    "dtype = {'embedding': ARRAY(Float)}\n",
    "final_data_str.to_sql(name='final_geonames', con=engine,  if_exists='replace', index=False, dtype=dtype)"
   ]
  },
  {
   "cell_type": "markdown",
   "id": "59a904db",
   "metadata": {},
   "source": [
    "### 2.4 Выгрузка дата фрейма с эмбедингами из базу данных"
   ]
  },
  {
   "cell_type": "code",
   "execution_count": 24,
   "id": "42948f6b",
   "metadata": {},
   "outputs": [],
   "source": [
    "query_1 = \"SELECT * \\\n",
    "           FROM final_geonames\" \n",
    "\n",
    "final_data_str  =  pd.read_sql_query(query_1, con=engine)"
   ]
  },
  {
   "cell_type": "code",
   "execution_count": 25,
   "id": "06fb1ae1",
   "metadata": {},
   "outputs": [
    {
     "data": {
      "text/html": [
       "<div>\n",
       "<style scoped>\n",
       "    .dataframe tbody tr th:only-of-type {\n",
       "        vertical-align: middle;\n",
       "    }\n",
       "\n",
       "    .dataframe tbody tr th {\n",
       "        vertical-align: top;\n",
       "    }\n",
       "\n",
       "    .dataframe thead th {\n",
       "        text-align: right;\n",
       "    }\n",
       "</style>\n",
       "<table border=\"1\" class=\"dataframe\">\n",
       "  <thead>\n",
       "    <tr style=\"text-align: right;\">\n",
       "      <th></th>\n",
       "      <th>geonameid</th>\n",
       "      <th>name</th>\n",
       "      <th>alternatenames</th>\n",
       "      <th>country_</th>\n",
       "      <th>region</th>\n",
       "      <th>embedding</th>\n",
       "    </tr>\n",
       "  </thead>\n",
       "  <tbody>\n",
       "    <tr>\n",
       "      <th>0</th>\n",
       "      <td>483882</td>\n",
       "      <td>Tbilisskiy Rayon</td>\n",
       "      <td>Tbilisskij Rajon,Tbilisskiy Rayon,Tbilissky Di...</td>\n",
       "      <td>RUSSIA</td>\n",
       "      <td>RU.38</td>\n",
       "      <td>[0.04864875599741936, 0.017007695510983467, 0....</td>\n",
       "    </tr>\n",
       "    <tr>\n",
       "      <th>1</th>\n",
       "      <td>483883</td>\n",
       "      <td>Tbilisskaya</td>\n",
       "      <td>Tbilisskaja,Tbilisskaya,Tiflisskaya,Тбилисская</td>\n",
       "      <td>RUSSIA</td>\n",
       "      <td>RU.38</td>\n",
       "      <td>[0.052615899592638016, 0.008524775505065918, 0...</td>\n",
       "    </tr>\n",
       "    <tr>\n",
       "      <th>2</th>\n",
       "      <td>484004</td>\n",
       "      <td>Tatyshlinskiy Rayon</td>\n",
       "      <td>Tatyshlinskij rajon,Tatyshlinsky District,Таты...</td>\n",
       "      <td>RUSSIA</td>\n",
       "      <td>RU.08</td>\n",
       "      <td>[0.02076655998826027, -0.020769739523530006, 0...</td>\n",
       "    </tr>\n",
       "    <tr>\n",
       "      <th>3</th>\n",
       "      <td>484016</td>\n",
       "      <td>Tatsinsky District</td>\n",
       "      <td>Tacinskij rajon,Tatsinsky,Таци́нский райо́н</td>\n",
       "      <td>RUSSIA</td>\n",
       "      <td>RU.61</td>\n",
       "      <td>[0.0409780852496624, -0.007715058512985706, 0....</td>\n",
       "    </tr>\n",
       "    <tr>\n",
       "      <th>4</th>\n",
       "      <td>484048</td>\n",
       "      <td>Tatarstan</td>\n",
       "      <td>Republique de Tatarstan,Respublika Tatarstan,R...</td>\n",
       "      <td>RUSSIA</td>\n",
       "      <td>RU.73</td>\n",
       "      <td>[0.04620844125747681, -0.028156539425253868, 0...</td>\n",
       "    </tr>\n",
       "    <tr>\n",
       "      <th>...</th>\n",
       "      <td>...</td>\n",
       "      <td>...</td>\n",
       "      <td>...</td>\n",
       "      <td>...</td>\n",
       "      <td>...</td>\n",
       "      <td>...</td>\n",
       "    </tr>\n",
       "    <tr>\n",
       "      <th>3503</th>\n",
       "      <td>480041</td>\n",
       "      <td>Tver Oblast</td>\n",
       "      <td>Kalinin Oblast,Kalininskaya Oblast',Kalininska...</td>\n",
       "      <td>RUSSIA</td>\n",
       "      <td>RU.77</td>\n",
       "      <td>[0.06285947561264038, 0.024384917691349983, 0....</td>\n",
       "    </tr>\n",
       "    <tr>\n",
       "      <th>3504</th>\n",
       "      <td>480508</td>\n",
       "      <td>Tula Oblast</td>\n",
       "      <td>Oblast Tula,Oblast de Toula,Tul'skaja Oblast',...</td>\n",
       "      <td>RUSSIA</td>\n",
       "      <td>RU.76</td>\n",
       "      <td>[0.04405342787504196, 0.01821879856288433, 0.0...</td>\n",
       "    </tr>\n",
       "    <tr>\n",
       "      <th>3505</th>\n",
       "      <td>481956</td>\n",
       "      <td>Totsky District</td>\n",
       "      <td>Tockij rajon,Totskiy Rayon,Totsky,То́цкий райо́н</td>\n",
       "      <td>RUSSIA</td>\n",
       "      <td>RU.55</td>\n",
       "      <td>[0.020389335229992867, -0.04610900208353996, 0...</td>\n",
       "    </tr>\n",
       "    <tr>\n",
       "      <th>3506</th>\n",
       "      <td>482496</td>\n",
       "      <td>Tokarëvskiy Rayon</td>\n",
       "      <td>Tokarevskij Rajon,Tokarevskiy Rayon,Tokaryovsk...</td>\n",
       "      <td>RUSSIA</td>\n",
       "      <td>RU.72</td>\n",
       "      <td>[0.052405212074518204, -0.05068418011069298, 0...</td>\n",
       "    </tr>\n",
       "    <tr>\n",
       "      <th>3507</th>\n",
       "      <td>483027</td>\n",
       "      <td>Tikhoretskiy Rayon</td>\n",
       "      <td>Tikhoreckij Rajon,Tikhoreckij rajon,Tikhoretsk...</td>\n",
       "      <td>RUSSIA</td>\n",
       "      <td>RU.38</td>\n",
       "      <td>[0.05707139894366264, -0.04806150123476982, 0....</td>\n",
       "    </tr>\n",
       "  </tbody>\n",
       "</table>\n",
       "<p>3508 rows × 6 columns</p>\n",
       "</div>"
      ],
      "text/plain": [
       "      geonameid                 name  \\\n",
       "0        483882     Tbilisskiy Rayon   \n",
       "1        483883          Tbilisskaya   \n",
       "2        484004  Tatyshlinskiy Rayon   \n",
       "3        484016   Tatsinsky District   \n",
       "4        484048            Tatarstan   \n",
       "...         ...                  ...   \n",
       "3503     480041          Tver Oblast   \n",
       "3504     480508          Tula Oblast   \n",
       "3505     481956      Totsky District   \n",
       "3506     482496    Tokarëvskiy Rayon   \n",
       "3507     483027   Tikhoretskiy Rayon   \n",
       "\n",
       "                                         alternatenames country_ region  \\\n",
       "0     Tbilisskij Rajon,Tbilisskiy Rayon,Tbilissky Di...   RUSSIA  RU.38   \n",
       "1        Tbilisskaja,Tbilisskaya,Tiflisskaya,Тбилисская   RUSSIA  RU.38   \n",
       "2     Tatyshlinskij rajon,Tatyshlinsky District,Таты...   RUSSIA  RU.08   \n",
       "3           Tacinskij rajon,Tatsinsky,Таци́нский райо́н   RUSSIA  RU.61   \n",
       "4     Republique de Tatarstan,Respublika Tatarstan,R...   RUSSIA  RU.73   \n",
       "...                                                 ...      ...    ...   \n",
       "3503  Kalinin Oblast,Kalininskaya Oblast',Kalininska...   RUSSIA  RU.77   \n",
       "3504  Oblast Tula,Oblast de Toula,Tul'skaja Oblast',...   RUSSIA  RU.76   \n",
       "3505   Tockij rajon,Totskiy Rayon,Totsky,То́цкий райо́н   RUSSIA  RU.55   \n",
       "3506  Tokarevskij Rajon,Tokarevskiy Rayon,Tokaryovsk...   RUSSIA  RU.72   \n",
       "3507  Tikhoreckij Rajon,Tikhoreckij rajon,Tikhoretsk...   RUSSIA  RU.38   \n",
       "\n",
       "                                              embedding  \n",
       "0     [0.04864875599741936, 0.017007695510983467, 0....  \n",
       "1     [0.052615899592638016, 0.008524775505065918, 0...  \n",
       "2     [0.02076655998826027, -0.020769739523530006, 0...  \n",
       "3     [0.0409780852496624, -0.007715058512985706, 0....  \n",
       "4     [0.04620844125747681, -0.028156539425253868, 0...  \n",
       "...                                                 ...  \n",
       "3503  [0.06285947561264038, 0.024384917691349983, 0....  \n",
       "3504  [0.04405342787504196, 0.01821879856288433, 0.0...  \n",
       "3505  [0.020389335229992867, -0.04610900208353996, 0...  \n",
       "3506  [0.052405212074518204, -0.05068418011069298, 0...  \n",
       "3507  [0.05707139894366264, -0.04806150123476982, 0....  \n",
       "\n",
       "[3508 rows x 6 columns]"
      ]
     },
     "execution_count": 25,
     "metadata": {},
     "output_type": "execute_result"
    }
   ],
   "source": [
    "final_data_str"
   ]
  },
  {
   "cell_type": "markdown",
   "id": "fe310a45",
   "metadata": {},
   "source": [
    "### 2.5 Функция, осуществляющая мэтчинг вводимого названия города с имеющимися в базе данных"
   ]
  },
  {
   "cell_type": "code",
   "execution_count": 26,
   "id": "a512ff94",
   "metadata": {},
   "outputs": [],
   "source": [
    "embeddings_new = final_data_str['embedding'].tolist()"
   ]
  },
  {
   "cell_type": "code",
   "execution_count": 27,
   "id": "24c69119",
   "metadata": {},
   "outputs": [],
   "source": [
    "# Строим дерево\n",
    "city_tree = cKDTree(embeddings_new)"
   ]
  },
  {
   "cell_type": "code",
   "execution_count": 28,
   "id": "bc572592",
   "metadata": {},
   "outputs": [],
   "source": [
    "def get_most_similar(city_name: str):\n",
    "    '''\n",
    "    Функция принимает на вход название города и возвращает 5 различных городов, а также альтернативные названия  городов, \n",
    "    регион и страну, которые наиболее близки по косинусной похожести. Если город вводится на русском, \n",
    "    то сначала он преобразуется в латиницу.\n",
    "    '''\n",
    "    #Перевод в латиницу, если на кириллице\n",
    "    translit_city_name = translit(city_name, 'ru', reversed=True)\n",
    "\n",
    "    # Получение вектора для исправленного текста\n",
    "    query_embedding = model_new.encode(translit_city_name)\n",
    "\n",
    "    # Поиск ближайших соседей с использованием дерева\n",
    "    distances, indices = city_tree.query(query_embedding, k=5)  # Задайте k равным количеству ближайших соседей\n",
    "\n",
    "    # Получение ближайших городов\n",
    "    similar_cities_df = final_data_str.iloc[indices]\n",
    "    similar_cities = similar_cities_df[['geonameid', 'name', 'alternatenames', 'region', 'country_']]\n",
    "\n",
    "    # Рассчитываем косинусную похожесть вместо расстояния\n",
    "    similar_cities['cosine_similarity'] = 1 - distances / 2\n",
    "\n",
    "    # Сортировка по убыванию косинусной похожести\n",
    "    similar_cities = similar_cities.sort_values(by='cosine_similarity', ascending=False)\n",
    "\n",
    "    result = {\n",
    "        'input_city': city_name,\n",
    "        'similar_cities': similar_cities.to_dict(orient='records'),\n",
    "    }\n",
    "    \n",
    "    return result"
   ]
  },
  {
   "cell_type": "markdown",
   "id": "33799db6",
   "metadata": {},
   "source": [
    "## 3. Тестирование"
   ]
  },
  {
   "cell_type": "markdown",
   "id": "f1263559",
   "metadata": {},
   "source": [
    "### 3.1 Тестирование без ошибок в названии города"
   ]
  },
  {
   "cell_type": "code",
   "execution_count": 169,
   "id": "6778a8e8",
   "metadata": {},
   "outputs": [
    {
     "data": {
      "text/plain": [
       "{'input_city': 'Москва',\n",
       " 'similar_cities': [{'geonameid': 524901,\n",
       "   'name': 'Moscow',\n",
       "   'alternatenames': 'MOW,Maeskuy,Maskav,Maskava,Maskva,Mat-xco-va,Matxcova,Matxcơva,Mosca,Moscfa,Moscha,Mosco,Moscou,Moscova,Moscovo,Moscow,Moscoƿ,Moscu,Moscua,Moscòu,Moscó,Moscù,Moscú,Moskva,Moska,Moskau,Mosko,Moskokh,Moskou,Moskov,Moskova,Moskovu,Moskow,Moskowa,Mosku,Moskuas,Moskva,Moskve,Moskvo,Moskvy,Moskwa,Moszkva,Muskav,Musko,Mát-xcơ-va,Mòskwa,Məskeu,Məskəү,masko,maskw,mo si ke,moseukeuba,mosko,mosukuwa,mskw,mwskva,mwskw,mwsqbh,mx s ko,Μόσχα,Мæскуы,Маскав,Масква,Москва,Москве,Москвы,Москова,Москох,Москъва,Мускав,Муско,Мәскеу,Мәскәү,Մոսկվա,מאָסקװע,מאסקווע,מוסקבה,ماسکو,مسکو,موسكو,موسكۋا,ܡܘܣܩܒܐ,मास्को,मॉस्को,মস্কো,மாஸ்கோ,มอสโก,མོ་སི་ཁོ།,მოსკოვი,ሞስኮ,モスクワ,莫斯科,모스크바',\n",
       "   'region': 'RU.48',\n",
       "   'country_': 'RUSSIA',\n",
       "   'cosine_similarity': 0.7579250200639593},\n",
       "  {'geonameid': 857690,\n",
       "   'name': 'Moskovskiy',\n",
       "   'alternatenames': 'Moskovskij,Moskovskiy,Московский',\n",
       "   'region': 'RU.48',\n",
       "   'country_': 'RUSSIA',\n",
       "   'cosine_similarity': 0.7480538940978281},\n",
       "  {'geonameid': 524894,\n",
       "   'name': 'Moskva',\n",
       "   'alternatenames': 'Maskva,Moscou,Moscow,Moscu,Moscú,Moskau,Moskou,Moskovu,Moskva,Məskeu,Москва,Мәскеу',\n",
       "   'region': 'RU.48',\n",
       "   'country_': 'RUSSIA',\n",
       "   'cosine_similarity': 0.7311561504349522},\n",
       "  {'geonameid': 524925,\n",
       "   'name': 'Moscow Oblast',\n",
       "   'alternatenames': \"Cuige Mhosco,Cúige Mhoscó,MO,Maeskuyjy oblaest,Maskavas apgabals,Maskouskaja voblasc',Maskvos sritis,Mehzkuu oblast,Mok-su-kho-chu,Moscow,Moscow Oblast,Moskevska oblast,Moskevská oblast,Mosko vel,Moskou-oblast,Moskova Oblasti,Moskova Oblastı,Moskovan aloveh,Moskovan alue,Moskovon' jonks,Moskovs'ka oblast',Moskovska oblast,Moskovskaja oblast',Moskovskaya Chiu,Moskovskaya Oblast,Moskovská oblasť,Moskua oblas't,Moskuko oblasta,Moskuv'ska oblast',Moskva,Moskva fylke,Moskva muzh,Moskva oblast,Moskva oblasty,Moskva provinco,Moskva vilajat,Moskva vilayeti,Moskva vilayəti,Moskva viloyati,Moskva vilâyeti,Moskva walayati,Moskvagaj mozho,Moskvan agj,Moskvan oblast',Moskvayi marz,Moskvа walayatı,Moszkvai teruelet,Moszkvai terület,Mo̍k-sṳ̂-khô-chû,Muskav oblace,Musko ulos,Oblasc Moskwa,Oblast Moscfa,Oblast Moskau,Oblast Moskou,Oblast Moskov,Oblast Moskow,Oblast Moskwa,Oblast de Moscou,Oblast de Moscu,Oblast' di Mosca,Oblasć Moskwa,Obwod moskiewski,Obwód moskiewski,Perifereia Moschas,Podmoskov'e,Podmoskovye,Provincia de Moscou,Província de Moscou,Regio Moscuensis,Regiunea Moscova,Vilojati Maskav,Wilayah Moscow,astan mskw,masko oplastu,maskw awblast,mhafzt mwskw,mo si ke zhou,moseukeuba ju,mosko oblasta,mosukuwa zhou,mwskw awblast,mwsqbh,Óblast de Moscú,Περιφέρεια Μόσχας,Вилояти Маскав,Мæскуыйы облæст,Маскоўская вобласць,Москва вилаят,Москва муж,Москва областы,Москва уобалаһа,Москвагай можо,Москван область,Моско вел,Москова төгәлң,Московонь ёнкс,Московска област,Московская область,Московська область,Москъвьска область,Мускав облаçĕ,Муско улос,Мэзкуу област,Мәскәү өлкәсе,Мәскәү өлкәһе,Мӧскуа обласьт,Подмосковье,Մոսկվայի մարզ,מוסקבה,استان مسکو,ماسکو اوبلاست,محافظة موسكو,موسكو أوبلاست,मॉस्को ओब्लास्त,மாஸ்கோ ஓப்லஸ்து,მოსკოვის ოლქი,モスクワ州,莫斯科州,모스크바 주\",\n",
       "   'region': 'RU.47',\n",
       "   'country_': 'RUSSIA',\n",
       "   'cosine_similarity': 0.6934199564664105},\n",
       "  {'geonameid': 524910,\n",
       "   'name': 'Moskovskiy Rayon',\n",
       "   'alternatenames': 'Moskovskij Rajon,Moskovskiy Rayon,Московский Район',\n",
       "   'region': 'RU.51',\n",
       "   'country_': 'RUSSIA',\n",
       "   'cosine_similarity': 0.6791104486748103}]}"
      ]
     },
     "execution_count": 169,
     "metadata": {},
     "output_type": "execute_result"
    }
   ],
   "source": [
    "get_most_similar('Москва')"
   ]
  },
  {
   "cell_type": "code",
   "execution_count": 29,
   "id": "d6ce6167",
   "metadata": {},
   "outputs": [
    {
     "data": {
      "text/plain": [
       "{'input_city': 'Ереван',\n",
       " 'similar_cities': [{'geonameid': 616052,\n",
       "   'name': 'Yerevan',\n",
       "   'alternatenames': 'Ayrivan,Djerevan,EVN,Eireavan,Eireaván,Ereban,Erehvan,Ereun,Erevan,Erevan osh,Erevana,Erevano,Erevanum,Erevàn,Ereván,Erevāna,Erewan,Erivan,Eriwan,Erywan,Erywań,Gierevan,Ierevan,Iereván,Iravan,Jerevan,Jerevanas,Jerevani,Jereván,Jerewan,Jerjewan,Revan,Siro Mayraqaxaq Yerevan,Yerevan,Yervandavan,Yerêvan,Yiriwan,Yèrèvan,Yérévan,ayrwan,ereban,erevani,iyerebhana,shhr ayrwan,ye li wen,yeleban,yeravana pranta,yere wan,yerevan,yerevana,yerevhana,yryfan,yrywan,Èrevan,Êrîvan,İrəvan,Γιερεβάν,Ερεβάν,Єреван,Јереван,Ереван,Ереван ош,Ерэван,Երեվան,Երևան,יערעוואן,ירוואן,ایروان,شهر ایروان,يريفان,يېرېۋان,یریوان,یەریڤان,येरवान प्रान्त,येरेवान,येरेव्हान,ইয়েরেভান,யெரெவான்,เยเรวาน,ཡེ་རེ་ཝན།,ერევანი,ዬሬቫን,エレバン,葉里溫,예레반',\n",
       "   'region': 'AM.11',\n",
       "   'country_': 'ARMENIA',\n",
       "   'cosine_similarity': 0.7156298764248072},\n",
       "  {'geonameid': 616051,\n",
       "   'name': 'Yerevan',\n",
       "   'alternatenames': \"Erevan,Ereván,Gorod Yerevan,K'aghak' Yerevan,K’aghak’ Yerevan,Yerevan,erevani,Երէվան,Քաղաք Երէվան,ერევანი\",\n",
       "   'region': 'AM.11',\n",
       "   'country_': 'ARMENIA',\n",
       "   'cosine_similarity': 0.7156298764248072},\n",
       "  {'geonameid': 7910403,\n",
       "   'name': 'Aravan',\n",
       "   'alternatenames': 'Aravan,Aravanskij,Aravanskij rajon,Араван,Араванский,Араванский район',\n",
       "   'region': 'KG.08',\n",
       "   'country_': 'KYRGYZSTAN',\n",
       "   'cosine_similarity': 0.666724017354438},\n",
       "  {'geonameid': 747712,\n",
       "   'name': 'Edirne',\n",
       "   'alternatenames': 'Adrianapolis,Adrianopel,Adrianople,Adrianopoja,Adrianopol,Adrianopoli,Adrianopolis,Adrianoupoli,Adrianoupolis,Adrianòpolis,Adrinople,Andrianoplin,Andrinople,Andrinòple,Drinapoly,Drinopolje,Drinápoly,Ederne,Ederné,Edirnae,Edirne,Edirnä,Edirnė,Edrene,Ehdirne,Ehdyrneh,Hadrianople,Hadrianopolis,Jedrene,Odrin,Odrín,adrnh,adrnt,ai di er nei,edileune,edirane,edirne,edirune,xe dirne,Édirne,Ədirnə,Αδριανούπολη,Једрене,Едрене,Едірне,Одрин,Эдирне,Эдырнэ,Ադրիանապոլիս,אדירנה,أدرنة,ادرنه,ادرنہ,ਏਦਿਰਨੇ,เอดีร์เน,အီဒါးနီမြို့,ედირნე,エディルネ,埃迪爾內,에디르네',\n",
       "   'region': 'TR.22',\n",
       "   'country_': 'TURKEY',\n",
       "   'cosine_similarity': 0.569967509332571},\n",
       "  {'geonameid': 747711,\n",
       "   'name': 'Edirne',\n",
       "   'alternatenames': 'Adrianople,Edirne,Edirne Province,Edirne Vilayeti,Edirne Vilâyeti,Edirne eanangoddi,Edirne probintzia,Edirne provints,Edirne walayati,Edirnei nahang,Edirnen maakunta,Edirnes ils,Edirneska provincie,Edirneská provincie,Edrene,Ehdirne,Eparchia Adrianoupolis,Hadrianopolis,Jedrene,Mkoa wa Edirne,Odrin,Pravincyja Ehdyrneh,Provinca Edirne,Provincia Edirne,Provincia dEdirne,Provincia de Edirne,Provincia di Edirne,Provinco Edirne,Provinsen Edirne,Provinsi Edirne,Província dEdirne,TR212,Vilojati Odrin,Wilayah Edirne,adrnt,adyrnh,ai di er nei sheng,astan adrnh,edileune ju,edirne pranta,edirune xian,Ədirnə ili,Επαρχία Αδριανούπολης,Једрене,Вилояти Одрин,Едрене,Едірне,Одрин,Правінцыя Эдырнэ,Эдирне,Әдирнә,Էդիրնեի նահանգ,ئەدىرنە ۋىلايىتى,ادرنة,ادیرنه,استان ادرنه,صوبہ ادرنہ,پارێزگای ئێدیرنە,एदिर्ने प्रांत,ედირნეს პროვინცია,エディルネ県,埃迪尔内省,에디르네 주',\n",
       "   'region': 'TR.22',\n",
       "   'country_': 'TURKEY',\n",
       "   'cosine_similarity': 0.569967509332571}]}"
      ]
     },
     "execution_count": 29,
     "metadata": {},
     "output_type": "execute_result"
    }
   ],
   "source": [
    "get_most_similar('Ереван')"
   ]
  },
  {
   "cell_type": "code",
   "execution_count": 31,
   "id": "329547a3",
   "metadata": {},
   "outputs": [
    {
     "data": {
      "text/plain": [
       "{'input_city': 'Antalya',\n",
       " 'similar_cities': [{'geonameid': 323776,\n",
       "   'name': 'Antalya',\n",
       "   'alternatenames': \"Antal'ja,Antali,Antalia,Antalija,Antalijos provincija,Antalijska provincie,Antalijská provincie,Antaljas ils,Antalya,Antalya Praant,Antalya Province,Antalya Vilayeti,Antalya Vilâyeti,Antalya eanangoddi,Antalya ili,Antalya probintzia,Antalya provints,Antalya walayati,Antalyan maakunta,Antalýa,Antália,Antʻaliayi nahang,Attalea,Eparchia Attaleias,Intara y'Antalya,Intara y’Antalya,Lalawigan ng Antalya,Mkoa wa Antalya,Pravincyja Antal'ja,Propinsi Antalya,Provinca Antalia,Provincia Antalya,Provincia dAntalya,Provincia de Antalya,Provincia di Adalia,Provinco Antalya,Provinsen Antalya,Provinsi Antalya,Província dAntalya,TR611,Vilojati Antalija,Wilayah Antalya,an ta li ya sheng,antallia ju,antalya,antalya pranta,antalya swbہ,antaruya xian,astan antalya,atali'a suba,yantalya vylayyty,Επαρχία Αττάλειας,Антали,Анталия,Анталија,Анталья,Вилояти Анталия,Правінцыя Анталья,Անթալիայի նահանգ,آنتالیا صوبہ,أنطاليا,ئانتاليا ۋىلايىتى,استان آنتالیا,صوبہ انطالیہ,پارێزگای ئانتالیا,ܐܢܛܐܠܝܐ,अंताल्या प्रांत,ਅੰਤਾਲਿਆ ਸੂਬਾ,ანთალიაშ პროვინცია,ანთალიის პროვინცია,アンタルヤ県,安塔利亚省,안탈리아 주\",\n",
       "   'region': 'TR.07',\n",
       "   'country_': 'TURKEY',\n",
       "   'cosine_similarity': 0.7788034493409537},\n",
       "  {'geonameid': 323777,\n",
       "   'name': 'Antalya',\n",
       "   'alternatenames': \"AYT,Adalia,Antal'ja,Antalia,Antalija,Antaliya,Antaliyah,Antalja,Antaljo,Antalya,Antayla,Antália,Atali,Attalea,Attaleia,Attalia,Olbia,Satalia,an ta li ya,antalia,antallia,antalya,antaruya,yantalya,Αττάλεια,Анталия,Анталија,Анталья,Анҭалиа,Անթալիա,אנטליה,آنتالیا,أنطاليا,ئانتالیا,انطالیہ,अंताल्या,ანთალია,アンタルヤ,安塔利亚,安塔利亞,안탈리아\",\n",
       "   'region': 'TR.07',\n",
       "   'country_': 'TURKEY',\n",
       "   'cosine_similarity': 0.7788034493409537},\n",
       "  {'geonameid': 324190,\n",
       "   'name': 'Alanya',\n",
       "   'alternatenames': \"Alaia,Alaiye,Alan'ja,Alana,Alanija,Alanja,Alanya,Alaya,Alâiye,Coracesium,a la ni ya,alania,alanya,allania,aran'ya,Алания,Аланья,Аланія,Алања,אלניה,آلانیا,ألانيا,الانیا,ალანია,アランヤ,阿拉尼亚,알라니아\",\n",
       "   'region': 'TR.07',\n",
       "   'country_': 'TURKEY',\n",
       "   'cosine_similarity': 0.582652613711784},\n",
       "  {'geonameid': 7732185,\n",
       "   'name': 'Alanya',\n",
       "   'alternatenames': 'no information',\n",
       "   'region': 'TR.07',\n",
       "   'country_': 'TURKEY',\n",
       "   'cosine_similarity': 0.582652613711784},\n",
       "  {'geonameid': 298845,\n",
       "   'name': 'Tunceli',\n",
       "   'alternatenames': 'Dersim,Dersimi nahang,Dêrsim,Mkoa wa Tunceli,Pravincyja Tundzhehli,Provincia Tunceli,Provincia de Tunceli,Provincia di Tunceli,Provinco Tunceli,Provinsen Tunceli,Provinsi Tunceli,Província de Tunceli,TRB14,Tuncaeliaen,Tunceli,Tunceli Ili,Tunceli Province,Tunceli Vilayeti,Tunceli Vilâyeti,Tunceli ili,Tunceli probintzia,Tunceli provints,Tunceli İli,Tuncelin maakunta,Tunceliye,Tuncelska provincie,Tuncelská provincie,Tuncäliän,Tuncêliye,Tundzeli,Tundzeli ils,Tundzheli,Tundželi ils,Tunjeli,Vilojati Tuncheli,Wilayah Tunceli,astan twnj\\u200cayly,tong jie li sheng,tounjeri xian,tunjeli pranta,tunjelli ju,twnjly,Вилояти Тунчели,Правінцыя Тунджэлі,Тунджели,Тунджелі,Тунџели,Դերսիմի նահանգ,استان تونج\\u200cایلی,تونجلي,تۇنجەلى ۋىلايىتى,صوبہ تنجیلی,صوبہ تونجیلی,پارێزگای دێرسم,तुंजेली प्रांत,თუნჯელის პროვინცია,トゥンジェリ県,通杰利省,툰젤리 주',\n",
       "   'region': 'TR.62',\n",
       "   'country_': 'TURKEY',\n",
       "   'cosine_similarity': 0.5529657767102276}]}"
      ]
     },
     "execution_count": 31,
     "metadata": {},
     "output_type": "execute_result"
    }
   ],
   "source": [
    "get_most_similar('Antalya')"
   ]
  },
  {
   "cell_type": "code",
   "execution_count": 33,
   "id": "d48de744",
   "metadata": {},
   "outputs": [
    {
     "data": {
      "text/plain": [
       "{'input_city': 'Bishkek',\n",
       " 'similar_cities': [{'geonameid': 1528675,\n",
       "   'name': 'Bishkek',\n",
       "   'alternatenames': 'Bichkek,Biscecum,Bischkek,Bishkek,Bishkek osh,Bisjkek,Biskek,Biskeka,Biskekas,Biskeko,Biskekʻ,Bisqeq,Bisqueque,Biszkek,Bixkek,Biŝkeko,Bişkek,Bişqeq,Biškek,Biškeka,Biškekas,Bișkek,Bîşkek,FRU,Frunze,Mpiskek,Pishkek,Pishpek,bi shen kai ke,bichkhek,bisakeka,bishukeku,biskek,biskeka,biskekk,bisyukekeu,bshkyk,byshkk,byshkyk,bysqq,picukkek,Μπισκέκ,Бишкек,Бишкек ош,Бішкек,Բիշկեք,בישקעק,בישקק,بشکیک,بيشكك,بيشكيك,بيشکک,بیشکک,بیشکێک,बिश्केक,বিশকেক,ਬਿਸ਼ਕੇਕ,பிசுக்கெக்,ಬಿಷ್ಕೆಕ್,ബിഷ്കെക്ക്,บิชเคก,པི་སི་ཁེག,ბიშკეკი,ቢሽኬክ,ビシュケク,比什凯克,비슈케크',\n",
       "   'region': 'KG.01',\n",
       "   'country_': 'KYRGYZSTAN',\n",
       "   'cosine_similarity': 0.8623016737101795},\n",
       "  {'geonameid': 1528334,\n",
       "   'name': 'Gorod Bishkek',\n",
       "   'alternatenames': 'Bishkek,Bishkek Shaary,Frunze,Gorod Bishkek,Gorod Frunze,Бишкек,Бишкек Шаары,Город Бишкек,Фрунзе',\n",
       "   'region': 'KG.01',\n",
       "   'country_': 'KYRGYZSTAN',\n",
       "   'cosine_similarity': 0.6406469851563721},\n",
       "  {'geonameid': 6947639,\n",
       "   'name': 'Başakşehir',\n",
       "   'alternatenames': 'no information',\n",
       "   'region': 'TR.34',\n",
       "   'country_': 'TURKEY',\n",
       "   'cosine_similarity': 0.6325218588292622},\n",
       "  {'geonameid': 8521530,\n",
       "   'name': 'Başakşehir',\n",
       "   'alternatenames': 'no information',\n",
       "   'region': 'TR.34',\n",
       "   'country_': 'TURKEY',\n",
       "   'cosine_similarity': 0.6325218588292622},\n",
       "  {'geonameid': 1510018,\n",
       "   'name': 'Biysk',\n",
       "   'alternatenames': \"Biejsk,Biisk,Bijs'k,Bijsk,Biscum,Bisk,Biysk,Biyusk,Mpisk,Viysk,bi si ke,biseukeu,Μπισκ,Бийск,Бійськ,比斯克,비스크\",\n",
       "   'region': 'RU.04',\n",
       "   'country_': 'RUSSIA',\n",
       "   'cosine_similarity': 0.6300961531210953}]}"
      ]
     },
     "execution_count": 33,
     "metadata": {},
     "output_type": "execute_result"
    }
   ],
   "source": [
    "get_most_similar('Bishkek')"
   ]
  },
  {
   "cell_type": "code",
   "execution_count": 35,
   "id": "14045930",
   "metadata": {},
   "outputs": [
    {
     "data": {
      "text/plain": [
       "{'input_city': 'Актобе',\n",
       " 'similar_cities': [{'geonameid': 610611,\n",
       "   'name': 'Aktobe',\n",
       "   'alternatenames': 'AKX,Aktioube,Aktioubé,Aktiube,Aktiubinsk,Aktjubinsk,Aktobe,Aktoebe,Aktubinsk,Aktyubinsk,Aktöbe,Aqtobe,Aqtoebe,Aqtóbe,Aqtöbe,Ukhtiubinskii,a ke tuo bi,agtoebe,akatobe,aktwby,aktʼobe,akutobe,aq\\u200ctph  qzaqstan,ʼqtwbh,Актобе,Актюбинск,Ақтөбе,אקטובה,آق\\u200cتپه، قزاقستان,أكتوبي,ਅਕਤੋਬੇ,აქტობე,アクトベ,阿克托比,악퇴베',\n",
       "   'region': 'KZ.04',\n",
       "   'country_': 'KAZAHSTAN',\n",
       "   'cosine_similarity': 0.6927411855089645},\n",
       "  {'geonameid': 324496,\n",
       "   'name': 'Aksaray',\n",
       "   'alternatenames': \"Aksarai,Aksaraj,Aksarajus,Aksaray,Akusaraj,Aqserayiye,a ke sa lai,agsalai,akasara'e,aksarai,akusarai,aq sray,Ακσαράι,Аксарай,Аксарај,Акъсарай,Ақсарай,آق سراي,آق\\u200cسرای,آکسرے,ਅਕਸਾਰਾਏ,აქსარაი,アクサライ,阿克萨赖,악사라이\",\n",
       "   'region': 'TR.75',\n",
       "   'country_': 'TURKEY',\n",
       "   'cosine_similarity': 0.5280162798349637},\n",
       "  {'geonameid': 443185,\n",
       "   'name': 'Aksaray',\n",
       "   'alternatenames': \"Aksaraj,Aksarajas ils,Aksaray,Aksaray Ili,Aksaray Praant,Aksaray Province,Aksaray eanangoddi,Aksaray ili,Aksaray probintzia,Aksaray provints,Aksaray walayati,Aksaray İli,Aksarayn maakunta,Aksarayska provincie,Aksarayská provincie,Aksaraý,Akusaraj,Aqserayiye,Axsere,Eparchia Aksarai,Intara y'Aksaray,Intara y’Aksaray,Lalawigan ng Aksaray,Mkoa wa Aksaray,Pravincyja Aksaraj,Provinca Aksaraj,Provincia Aksaray,Provincia dAksaray,Provincia de Aksaray,Provincia di Aksaray,Provinco Aksaray,Provinsen Aksaray,Provinsi Aksaray,Província dAksaray,TR712,Vilojati Aksaraj,Wilayah Aksaray,a ke sa lai sheng,agsalai ju,aksaraya pranta,akusarai xian,aq sray,astan aq\\u200csray,yaqsaray vylayyty,Επαρχία Ακσαράι,Аксарай,Аксарај,Акъсарай,Аҡһарай,Вилояти Аксарай,Правінцыя Аксарай,Աքսարայ,آق سراي,آق\\u200cسرای,ئاقساراي ۋىلايىتى,استان آق\\u200cسرای,صوبہ آق سرائے,پارێزگای ئاکسارای,अक्साराय प्रांत,აქსარაის პროვინცია,აქსარაიშ პროვინცია,アクサライ県,阿克萨赖省,악사라이 주\",\n",
       "   'region': 'TR.75',\n",
       "   'country_': 'TURKEY',\n",
       "   'cosine_similarity': 0.5280162798349637},\n",
       "  {'geonameid': 610688,\n",
       "   'name': 'Aktyubinskaya Oblast’',\n",
       "   'alternatenames': \"Aktgbe oblysy,Aktjubinskaja Oblast',Aktjubinskaja oblast',Aktyubinsk Oblast,Aktyubinskaya Oblast',Aktyubinskaya Oblast’,Aqtobe,Aqtobe Oblysy,Aqtoebe,Aqtöbe,Aqtöbe Oblysy,Актюбинская Область,Актюбинская область,Аќтґбе облысы,Ақтөбе,Ақтөбе Облысы\",\n",
       "   'region': 'KZ.04',\n",
       "   'country_': 'KAZAHSTAN',\n",
       "   'cosine_similarity': 0.5268393614848659},\n",
       "  {'geonameid': 580222,\n",
       "   'name': 'Avtovo',\n",
       "   'alternatenames': 'Autuansaari,Avtoro,Avtovo,Avtovon metroasema,Awtowo,Derevnya Aftova,Estacao Avtovo,Estação Avtovo,Sosnovka,Stancyja metro Autava,Автово,Станцыя метро Аўтава,Ավտովո',\n",
       "   'region': 'RU.66',\n",
       "   'country_': 'RUSSIA',\n",
       "   'cosine_similarity': 0.5264144605285679}]}"
      ]
     },
     "execution_count": 35,
     "metadata": {},
     "output_type": "execute_result"
    }
   ],
   "source": [
    "get_most_similar('Актобе')"
   ]
  },
  {
   "cell_type": "markdown",
   "id": "6a88107b",
   "metadata": {},
   "source": [
    "### 3.2 Тестирование с ошибками в названии города"
   ]
  },
  {
   "cell_type": "code",
   "execution_count": 36,
   "id": "94cd23c4",
   "metadata": {},
   "outputs": [
    {
     "data": {
      "text/plain": [
       "{'input_city': 'Масква',\n",
       " 'similar_cities': [{'geonameid': 524894,\n",
       "   'name': 'Moskva',\n",
       "   'alternatenames': 'Maskva,Moscou,Moscow,Moscu,Moscú,Moskau,Moskou,Moskovu,Moskva,Məskeu,Москва,Мәскеу',\n",
       "   'region': 'RU.48',\n",
       "   'country_': 'RUSSIA',\n",
       "   'cosine_similarity': 0.6821996050705194},\n",
       "  {'geonameid': 524901,\n",
       "   'name': 'Moscow',\n",
       "   'alternatenames': 'MOW,Maeskuy,Maskav,Maskava,Maskva,Mat-xco-va,Matxcova,Matxcơva,Mosca,Moscfa,Moscha,Mosco,Moscou,Moscova,Moscovo,Moscow,Moscoƿ,Moscu,Moscua,Moscòu,Moscó,Moscù,Moscú,Moskva,Moska,Moskau,Mosko,Moskokh,Moskou,Moskov,Moskova,Moskovu,Moskow,Moskowa,Mosku,Moskuas,Moskva,Moskve,Moskvo,Moskvy,Moskwa,Moszkva,Muskav,Musko,Mát-xcơ-va,Mòskwa,Məskeu,Məskəү,masko,maskw,mo si ke,moseukeuba,mosko,mosukuwa,mskw,mwskva,mwskw,mwsqbh,mx s ko,Μόσχα,Мæскуы,Маскав,Масква,Москва,Москве,Москвы,Москова,Москох,Москъва,Мускав,Муско,Мәскеу,Мәскәү,Մոսկվա,מאָסקװע,מאסקווע,מוסקבה,ماسکو,مسکو,موسكو,موسكۋا,ܡܘܣܩܒܐ,मास्को,मॉस्को,মস্কো,மாஸ்கோ,มอสโก,མོ་སི་ཁོ།,მოსკოვი,ሞስኮ,モスクワ,莫斯科,모스크바',\n",
       "   'region': 'RU.48',\n",
       "   'country_': 'RUSSIA',\n",
       "   'cosine_similarity': 0.6482637172969024},\n",
       "  {'geonameid': 857690,\n",
       "   'name': 'Moskovskiy',\n",
       "   'alternatenames': 'Moskovskij,Moskovskiy,Московский',\n",
       "   'region': 'RU.48',\n",
       "   'country_': 'RUSSIA',\n",
       "   'cosine_similarity': 0.6184476521665153},\n",
       "  {'geonameid': 524925,\n",
       "   'name': 'Moscow Oblast',\n",
       "   'alternatenames': \"Cuige Mhosco,Cúige Mhoscó,MO,Maeskuyjy oblaest,Maskavas apgabals,Maskouskaja voblasc',Maskvos sritis,Mehzkuu oblast,Mok-su-kho-chu,Moscow,Moscow Oblast,Moskevska oblast,Moskevská oblast,Mosko vel,Moskou-oblast,Moskova Oblasti,Moskova Oblastı,Moskovan aloveh,Moskovan alue,Moskovon' jonks,Moskovs'ka oblast',Moskovska oblast,Moskovskaja oblast',Moskovskaya Chiu,Moskovskaya Oblast,Moskovská oblasť,Moskua oblas't,Moskuko oblasta,Moskuv'ska oblast',Moskva,Moskva fylke,Moskva muzh,Moskva oblast,Moskva oblasty,Moskva provinco,Moskva vilajat,Moskva vilayeti,Moskva vilayəti,Moskva viloyati,Moskva vilâyeti,Moskva walayati,Moskvagaj mozho,Moskvan agj,Moskvan oblast',Moskvayi marz,Moskvа walayatı,Moszkvai teruelet,Moszkvai terület,Mo̍k-sṳ̂-khô-chû,Muskav oblace,Musko ulos,Oblasc Moskwa,Oblast Moscfa,Oblast Moskau,Oblast Moskou,Oblast Moskov,Oblast Moskow,Oblast Moskwa,Oblast de Moscou,Oblast de Moscu,Oblast' di Mosca,Oblasć Moskwa,Obwod moskiewski,Obwód moskiewski,Perifereia Moschas,Podmoskov'e,Podmoskovye,Provincia de Moscou,Província de Moscou,Regio Moscuensis,Regiunea Moscova,Vilojati Maskav,Wilayah Moscow,astan mskw,masko oplastu,maskw awblast,mhafzt mwskw,mo si ke zhou,moseukeuba ju,mosko oblasta,mosukuwa zhou,mwskw awblast,mwsqbh,Óblast de Moscú,Περιφέρεια Μόσχας,Вилояти Маскав,Мæскуыйы облæст,Маскоўская вобласць,Москва вилаят,Москва муж,Москва областы,Москва уобалаһа,Москвагай можо,Москван область,Моско вел,Москова төгәлң,Московонь ёнкс,Московска област,Московская область,Московська область,Москъвьска область,Мускав облаçĕ,Муско улос,Мэзкуу област,Мәскәү өлкәсе,Мәскәү өлкәһе,Мӧскуа обласьт,Подмосковье,Մոսկվայի մարզ,מוסקבה,استان مسکو,ماسکو اوبلاست,محافظة موسكو,موسكو أوبلاست,मॉस्को ओब्लास्त,மாஸ்கோ ஓப்லஸ்து,მოსკოვის ოლქი,モスクワ州,莫斯科州,모스크바 주\",\n",
       "   'region': 'RU.47',\n",
       "   'country_': 'RUSSIA',\n",
       "   'cosine_similarity': 0.5943070319036845},\n",
       "  {'geonameid': 531820,\n",
       "   'name': 'Malakhovka',\n",
       "   'alternatenames': 'Malakhovka,Малаховка',\n",
       "   'region': 'RU.47',\n",
       "   'country_': 'RUSSIA',\n",
       "   'cosine_similarity': 0.581719568406559}]}"
      ]
     },
     "execution_count": 36,
     "metadata": {},
     "output_type": "execute_result"
    }
   ],
   "source": [
    "get_most_similar('Масква')"
   ]
  },
  {
   "cell_type": "code",
   "execution_count": 37,
   "id": "6699978c",
   "metadata": {},
   "outputs": [
    {
     "data": {
      "text/plain": [
       "{'input_city': 'Иривен',\n",
       " 'similar_cities': [{'geonameid': 616052,\n",
       "   'name': 'Yerevan',\n",
       "   'alternatenames': 'Ayrivan,Djerevan,EVN,Eireavan,Eireaván,Ereban,Erehvan,Ereun,Erevan,Erevan osh,Erevana,Erevano,Erevanum,Erevàn,Ereván,Erevāna,Erewan,Erivan,Eriwan,Erywan,Erywań,Gierevan,Ierevan,Iereván,Iravan,Jerevan,Jerevanas,Jerevani,Jereván,Jerewan,Jerjewan,Revan,Siro Mayraqaxaq Yerevan,Yerevan,Yervandavan,Yerêvan,Yiriwan,Yèrèvan,Yérévan,ayrwan,ereban,erevani,iyerebhana,shhr ayrwan,ye li wen,yeleban,yeravana pranta,yere wan,yerevan,yerevana,yerevhana,yryfan,yrywan,Èrevan,Êrîvan,İrəvan,Γιερεβάν,Ερεβάν,Єреван,Јереван,Ереван,Ереван ош,Ерэван,Երեվան,Երևան,יערעוואן,ירוואן,ایروان,شهر ایروان,يريفان,يېرېۋان,یریوان,یەریڤان,येरवान प्रान्त,येरेवान,येरेव्हान,ইয়েরেভান,யெரெவான்,เยเรวาน,ཡེ་རེ་ཝན།,ერევანი,ዬሬቫን,エレバン,葉里溫,예레반',\n",
       "   'region': 'AM.11',\n",
       "   'country_': 'ARMENIA',\n",
       "   'cosine_similarity': 0.5864124238535362},\n",
       "  {'geonameid': 616051,\n",
       "   'name': 'Yerevan',\n",
       "   'alternatenames': \"Erevan,Ereván,Gorod Yerevan,K'aghak' Yerevan,K’aghak’ Yerevan,Yerevan,erevani,Երէվան,Քաղաք Երէվան,ერევანი\",\n",
       "   'region': 'AM.11',\n",
       "   'country_': 'ARMENIA',\n",
       "   'cosine_similarity': 0.5864124238535362},\n",
       "  {'geonameid': 747712,\n",
       "   'name': 'Edirne',\n",
       "   'alternatenames': 'Adrianapolis,Adrianopel,Adrianople,Adrianopoja,Adrianopol,Adrianopoli,Adrianopolis,Adrianoupoli,Adrianoupolis,Adrianòpolis,Adrinople,Andrianoplin,Andrinople,Andrinòple,Drinapoly,Drinopolje,Drinápoly,Ederne,Ederné,Edirnae,Edirne,Edirnä,Edirnė,Edrene,Ehdirne,Ehdyrneh,Hadrianople,Hadrianopolis,Jedrene,Odrin,Odrín,adrnh,adrnt,ai di er nei,edileune,edirane,edirne,edirune,xe dirne,Édirne,Ədirnə,Αδριανούπολη,Једрене,Едрене,Едірне,Одрин,Эдирне,Эдырнэ,Ադրիանապոլիս,אדירנה,أدرنة,ادرنه,ادرنہ,ਏਦਿਰਨੇ,เอดีร์เน,အီဒါးနီမြို့,ედირნე,エディルネ,埃迪爾內,에디르네',\n",
       "   'region': 'TR.22',\n",
       "   'country_': 'TURKEY',\n",
       "   'cosine_similarity': 0.5655812664424751},\n",
       "  {'geonameid': 747711,\n",
       "   'name': 'Edirne',\n",
       "   'alternatenames': 'Adrianople,Edirne,Edirne Province,Edirne Vilayeti,Edirne Vilâyeti,Edirne eanangoddi,Edirne probintzia,Edirne provints,Edirne walayati,Edirnei nahang,Edirnen maakunta,Edirnes ils,Edirneska provincie,Edirneská provincie,Edrene,Ehdirne,Eparchia Adrianoupolis,Hadrianopolis,Jedrene,Mkoa wa Edirne,Odrin,Pravincyja Ehdyrneh,Provinca Edirne,Provincia Edirne,Provincia dEdirne,Provincia de Edirne,Provincia di Edirne,Provinco Edirne,Provinsen Edirne,Provinsi Edirne,Província dEdirne,TR212,Vilojati Odrin,Wilayah Edirne,adrnt,adyrnh,ai di er nei sheng,astan adrnh,edileune ju,edirne pranta,edirune xian,Ədirnə ili,Επαρχία Αδριανούπολης,Једрене,Вилояти Одрин,Едрене,Едірне,Одрин,Правінцыя Эдырнэ,Эдирне,Әдирнә,Էդիրնեի նահանգ,ئەدىرنە ۋىلايىتى,ادرنة,ادیرنه,استان ادرنه,صوبہ ادرنہ,پارێزگای ئێدیرنە,एदिर्ने प्रांत,ედირნეს პროვინცია,エディルネ県,埃迪尔内省,에디르네 주',\n",
       "   'region': 'TR.22',\n",
       "   'country_': 'TURKEY',\n",
       "   'cosine_similarity': 0.5655812664424751},\n",
       "  {'geonameid': 1505526,\n",
       "   'name': 'Irbit',\n",
       "   'alternatenames': 'Ehrbet,Irbit,Irmpit,ayrbyt,irbit,yi er bi te,İrbit,Ιρμπίτ,Ірбіт,Ирбит,Эрбет,إيربيت,ایربیت,伊爾比特',\n",
       "   'region': 'RU.71',\n",
       "   'country_': 'RUSSIA',\n",
       "   'cosine_similarity': 0.5564278225518475}]}"
      ]
     },
     "execution_count": 37,
     "metadata": {},
     "output_type": "execute_result"
    }
   ],
   "source": [
    "get_most_similar('Иривен')"
   ]
  },
  {
   "cell_type": "code",
   "execution_count": 39,
   "id": "61b8b3c9",
   "metadata": {},
   "outputs": [
    {
     "data": {
      "text/plain": [
       "{'input_city': 'Stambull',\n",
       " 'similar_cities': [{'geonameid': 487846,\n",
       "   'name': 'Stavropol’',\n",
       "   'alternatenames': \"STW,Stavropol,Stavropol',Stavropol’,Stawropol,Voroshilovsk,Ставрополь\",\n",
       "   'region': 'RU.70',\n",
       "   'country_': 'RUSSIA',\n",
       "   'cosine_similarity': 0.5647358897653331},\n",
       "  {'geonameid': 745042,\n",
       "   'name': 'İstanbul',\n",
       "   'alternatenames': 'Iostanbul,Iostanbúl,Ist,Istampoul,Istanbul,Istanbul Province,Istanbul Vilayeti,Miklagard,Miklagård,Provincia de Estambul,Stambul,TR100,astnbwl,isutanburu,yi si tan bu er,İst,İstanbul,İstanbul Vilâyeti,Ισταμπούλ,Истанбул,Стамбул,اسطنبول,イスタンブール,伊斯坦布尔',\n",
       "   'region': 'TR.34',\n",
       "   'country_': 'TURKEY',\n",
       "   'cosine_similarity': 0.5178680036376425},\n",
       "  {'geonameid': 745044,\n",
       "   'name': 'Istanbul',\n",
       "   'alternatenames': 'Bizanc,Bizánc,Byzance,Byzantion,Byzantium,Byzanz,Carigrad,Constantinoble,Constantinopla,Constantinople,Constantinopolen,Constantinopoli,Constantinopolis,Costantinopoli,Estambul,IST,Istamboul,Istambul,Istambuł,Istampoul,Istanbul,Istanbúl,Isztambul,Konstantinapoly,Konstantinopel,Konstantinopol,Konstantinopolo,Konstantinoupoli,Konstantinoupolis,Konstantinápoly,Kustantiniyah,Micklagard,Micklagård,Mikligardur,Mikligarður,Stamboul,Stambul,Stambula,Stambuł,Tsarigrad,Vizantija (Vizantija),Vyzantio,astnbwl,bijantium,byuzantion,byzntywn,iseutanbul,istambula,isutanburu,stin Poli [stimˈboli],yi si tan bao,yi si tan bu er,İstanbul,Βυζάντιο,Βυζαντιο,Ισταμπουλ,Ισταμπούλ,Κωνσταντινουπολη,Κωνσταντινούπολη,Κωνσταντινούπολις,στην Πόλι [stimˈboli],Византија (Vizantija),Истанбул,Стамбул,ביזנטיון,اسطنبول,इस्तांबुल,ইস্তাম্বুল,イスタンブール,ビュザンティオン,伊斯坦堡,伊斯坦布尔,비잔티움,이스탄불',\n",
       "   'region': 'TR.34',\n",
       "   'country_': 'TURKEY',\n",
       "   'cosine_similarity': 0.5135915399112012},\n",
       "  {'geonameid': 486968,\n",
       "   'name': 'Stupino',\n",
       "   'alternatenames': 'Elektrovoz,Stoepino,Stoupino,Stupina,Stupino,Stúpino,astwpynw,si tu pi nuo,stwbynw,stwpynw,Ступино,Ступино балһсн,Ступіна,Ступіно,استوپینو,ستوبينو,ستوپینو,斯图皮诺',\n",
       "   'region': 'RU.47',\n",
       "   'country_': 'RUSSIA',\n",
       "   'cosine_similarity': 0.5001986699414176},\n",
       "  {'geonameid': 743404,\n",
       "   'name': 'Kestel',\n",
       "   'alternatenames': 'Kestel',\n",
       "   'region': 'TR.16',\n",
       "   'country_': 'TURKEY',\n",
       "   'cosine_similarity': 0.49536051476169907}]}"
      ]
     },
     "execution_count": 39,
     "metadata": {},
     "output_type": "execute_result"
    }
   ],
   "source": [
    "get_most_similar('Stambull')"
   ]
  },
  {
   "cell_type": "code",
   "execution_count": 51,
   "id": "9110578b",
   "metadata": {},
   "outputs": [
    {
     "data": {
      "text/plain": [
       "{'input_city': 'Остana',\n",
       " 'similar_cities': [{'geonameid': 539555,\n",
       "   'name': 'Kulebaki',\n",
       "   'alternatenames': 'Koelebaki,Koulebaki,Kulebaki,Kuljabaki,ku lie ba ji,kwlbaky,Кулебаки,Кулябакі,كولباكي,کولباکی,庫列巴基',\n",
       "   'region': 'RU.51',\n",
       "   'country_': 'RUSSIA',\n",
       "   'cosine_similarity': 0.5947930183340395},\n",
       "  {'geonameid': 514284,\n",
       "   'name': 'Ostankinskiy',\n",
       "   'alternatenames': 'Novoostankino,Ostankino,Ostankinskij,Ostankinskiy,Pushkinskoye,Останкинский',\n",
       "   'region': 'RU.48',\n",
       "   'country_': 'RUSSIA',\n",
       "   'cosine_similarity': 0.5757596031211157},\n",
       "  {'geonameid': 1538317,\n",
       "   'name': 'Astana',\n",
       "   'alternatenames': 'Astana,Astana Kˌalasy,Gorod Astana,Nur-Sultan,Nұr-Sұltan,nwr sltan,Астана,Астана Қаласы,Город Астана,Нур-Султан,Нұр-Сұлтан,نور سلطان',\n",
       "   'region': 'KZ.05',\n",
       "   'country_': 'KAZAHSTAN',\n",
       "   'cosine_similarity': 0.5486915178625357},\n",
       "  {'geonameid': 1526273,\n",
       "   'name': 'Astana',\n",
       "   'alternatenames': \"Ak-Mola,Akmola,Akmolins'k,Akmolinsk,Aqmola,Astana,Astano,Astanà,Astaná,Asztana,Aστάνα,Bozok,Cilinograd,NQZ,Noer-Soeltan,Nour-Soultan,Nur-Soltan,Nur-Sultan,Nur-Sultano,Nur-Sultán,Nursultʻan,Nұr-Sұltan,Ostona,Qaraotkel,Qaraötkel,TSE,Tselinograd,a si ta na,aseutana,astana,astanh,astant,astanٱ,astanہ,astʼana,asutana,nwr sltan,nwrsltan,nwrswltan,nۇrsۇltan,yastana,ʼstnh,Ак-Мола,Акмола,Акмолінськ,Астана,Нур-Солтан,Нур-Султан,Нұр-Сұлтан,Остона,Цілиноград,Աստանա,Նուրսուլթան,אסטנה,آستانا,آستانه,آستانٱ,آستانہ,أستانة,أسطانا,ئاستانا,استانا,استانه,نور سلطان,نورسلطان,نورسولتان,نۇرسۇلتان,আস্তানা,ასტანა,አስታና,アスタナ,阿斯塔纳,아스타나\",\n",
       "   'region': 'KZ.05',\n",
       "   'country_': 'KAZAHSTAN',\n",
       "   'cosine_similarity': 0.5486915178625357},\n",
       "  {'geonameid': 563514,\n",
       "   'name': 'Elista',\n",
       "   'alternatenames': 'ESL,Ehlista,Ehlst,Elist,Elista,Elistà,Elistá,Eliszta,Elst,Stepnoi,Stepnoy,ai li si ta,alysta,aylysta,erisuta,yelliseuta,Ėlista,Ελίστα,Елиста,Еліста,Элиста,Элст,Элст балһсн,Эліста,Элһэтэ,אליסטה,إيليستا,الیستا,ایلیستا,エリスタ,埃利斯塔,옐리스타',\n",
       "   'region': 'RU.24',\n",
       "   'country_': 'RUSSIA',\n",
       "   'cosine_similarity': 0.5202295847437264}]}"
      ]
     },
     "execution_count": 51,
     "metadata": {},
     "output_type": "execute_result"
    }
   ],
   "source": [
    "get_most_similar('Остana')"
   ]
  },
  {
   "cell_type": "code",
   "execution_count": 50,
   "id": "3fd38ca1",
   "metadata": {},
   "outputs": [
    {
     "data": {
      "text/plain": [
       "{'input_city': 'Сомарра',\n",
       " 'similar_cities': [{'geonameid': 300371,\n",
       "   'name': 'Soma',\n",
       "   'alternatenames': 'Distretto di Soma,Germe,Soma,Soma i Tyrkia,Somy,soma,suo ma,swmh,Σόμα,Сома,Сомы,סומה,ضلع سوما,ソマ,索馬,소마',\n",
       "   'region': 'TR.45',\n",
       "   'country_': 'TURKEY',\n",
       "   'cosine_similarity': 0.6121149644939178},\n",
       "  {'geonameid': 499099,\n",
       "   'name': 'Samara',\n",
       "   'alternatenames': 'KUF,Kuibyschew,Kuibyshev,Kujbyshev,Kuybyshev,Samar,Samar khot,Samar osh,Samara,Samarae,Samare,Samarga,Samaro,Samāra,Szamara,sa ma la,sa ma ra,samala,samara,smara,smara  rws,smrh,Σαμάρα,Куйбышев,Самар,Самар ош,Самар хот,Самарæ,Самара,Самаре,Самарҕа,Һамар,Սամարա,סמרה,سامارا,سامارہ,سمارا,سمارا، روس,समारा,ซามารา,სამარა,サマーラ,薩馬拉,사마라',\n",
       "   'region': 'RU.65',\n",
       "   'country_': 'RUSSIA',\n",
       "   'cosine_similarity': 0.6118417980648657},\n",
       "  {'geonameid': 3190342,\n",
       "   'name': 'Sombor',\n",
       "   'alternatenames': 'Coborszentmihaly,Coborszentmihály,Kiszombor,Mezozombor,Mezőzombor,Nagy-Zombor,Opstina Sombor,Opština Sombor,Schomburg,Sombar,Sombor,Sompor,Szentmihaly,Szentmihály,Zombor,somboleu,sonboru,song bo er,swmbwr,Σόμπορ,Сомбар,Сомбор,סומבור,سومبور,سۆمبۆر,ソンボル,松博尔,솜보르',\n",
       "   'region': 'RS.VO',\n",
       "   'country_': 'SERBIA',\n",
       "   'cosine_similarity': 0.5828884480587009},\n",
       "  {'geonameid': 737421,\n",
       "   'name': 'Yomra',\n",
       "   'alternatenames': 'Dirona,Yomra',\n",
       "   'region': 'TR.61',\n",
       "   'country_': 'TURKEY',\n",
       "   'cosine_similarity': 0.5729367158021266},\n",
       "  {'geonameid': 499068,\n",
       "   'name': 'Samara Oblast',\n",
       "   'alternatenames': \"Kuybyshev Oblast,Kuybyshevskaya Oblast',Kuybyshevskaya Oblast’,Oblast Samara,Oblast de Samara,Samara,Samara Oblast,Samarska oblast,Samarskaja Oblast',Samarskaja oblast,Samarskaja oblast',Samarskaya Oblast',Samarskaya Oblast’,Самарская Область,Самарская область\",\n",
       "   'region': 'RU.65',\n",
       "   'country_': 'RUSSIA',\n",
       "   'cosine_similarity': 0.5503685393742523}]}"
      ]
     },
     "execution_count": 50,
     "metadata": {},
     "output_type": "execute_result"
    }
   ],
   "source": [
    "get_most_similar('Сомарра')"
   ]
  },
  {
   "cell_type": "code",
   "execution_count": 61,
   "id": "563cabe6",
   "metadata": {},
   "outputs": [
    {
     "data": {
      "text/plain": [
       "{'input_city': 'коленинград',\n",
       " 'similar_cities': [{'geonameid': 554234,\n",
       "   'name': 'Kaliningrad',\n",
       "   'alternatenames': \"Caliningrado,Calininopolis,KGD,Kalinin'nkrant,Kaliningrad,Kaliningrada,Kaliningradas,Kaliningrado,Kaliningradum,Kaliningrau,Kaliningráu,Kalininqrad,Kalinjingrad,Kalinyingrad,Kalinyingrád,Kalińingrad,Kalíníngrad,Karaliaucios,Karaliaucius,Karaliaučios,Karaliaučius,Kaļiņingrada,Kenisberg,Koenigsbarg,Koenigsberg,Koenigsberg in Preussen,Korigsberg,Krolewiec,Królewiec,Kënisberg,Königsbarg,Königsberg,Königsberg in Preußen,Körigsberg,jia li ning ge lei,kalininagrada,kalliningeuladeu,kalynynghrad,kalynyngrad,kariningurado,qlynyngrd,Καλίνινγκραντ,Калининград,Калињинград,Калінінград,Կալինինգրադ,קלינינגרד,كالينينغراد,کالیننگراڈ,کالینینگراد,کیلننگراڈ,कालिनिनग्राद,ಕಲಿನಿನ್\\u200dಗ್ರಾಡ್,კალინინგრადი,カリーニングラード,加里寧格勒,칼리닌그라드\",\n",
       "   'region': 'RU.23',\n",
       "   'country_': 'RUSSIA',\n",
       "   'cosine_similarity': 0.6284742213674955},\n",
       "  {'geonameid': 472757,\n",
       "   'name': 'Volgograd',\n",
       "   'alternatenames': \"Caricin,Caricyn,Estalingrado,Stalingrad,Stalingrado,Staljingrad,Tsaritsyn,VOG,Valgagrad,Vl'gogradu,Volgograd,Volgograda,Volgogradas,Volgogrado,Volgogradum,Volgográd,Volnkonkrant,Volqoqrad,Wolgograd,Wołgograd,Zarizyn,bolgogeuladeu,fu er jia ge lei,fwlghwghrad,fwljwjrad,volagagarata,volgograda,volgogradi,volkokirat,vuorugogurado,wlgwgrad,wwlgw grad,wwlgwgrad,wwlgwgrd,wxl kok rad,Βόλγκογκραντ,Аһш балһсн,Валгаград,Вльгоградъ,Волгоград,Сталинград,Стаљинград,Царицин,Царицын,Վոլգոգրադ,וולגוגרד,فولجوجراد,فولغوغراد,ولگوگراد,وولگو گراد,وولگوگراد,ڤۆڵگۆگراد,वोल्गोग्राद,ਵੋਲਗਾਗਰਾਤ,வோல்கோகிராட்,වොල්ගාග්\\u200dරාද්,วอลโกกราด,စတာလင်ဂရက်မြို့,ვოლგოგრადი,ヴォルゴグラード,伏尔加格勒,伏爾加格勒,볼고그라드\",\n",
       "   'region': 'RU.84',\n",
       "   'country_': 'RUSSIA',\n",
       "   'cosine_similarity': 0.6019295093946997},\n",
       "  {'geonameid': 545626,\n",
       "   'name': 'Kondopoga',\n",
       "   'alternatenames': 'Kandapoga,Kondopog,Kondopoga,Kondupohju,Kontupohja,Tonopoga,kondopoga,kong duo bo jia,kwndwbwgha,kwndwpwga,Кандапога,Кондопога,كوندوبوغا,کوندوپوگا,コンドポガ,孔多波加,콘도포가',\n",
       "   'region': 'RU.28',\n",
       "   'country_': 'RUSSIA',\n",
       "   'cosine_similarity': 0.599465487359558},\n",
       "  {'geonameid': 7732607,\n",
       "   'name': 'Çorlu',\n",
       "   'alternatenames': 'no information',\n",
       "   'region': 'TR.59',\n",
       "   'country_': 'TURKEY',\n",
       "   'cosine_similarity': 0.5860780706540791},\n",
       "  {'geonameid': 748893,\n",
       "   'name': 'Çorlu',\n",
       "   'alternatenames': 'Charlu,Chorlu,Corlu,Corum,Tzirallum,Tzurullum,chwrlw,qiao er lu,tshwrlw,Çorlu,Çorum,Čorlu,Чарлу,Чорлу,تشورلو,ضلع چورلو,چورلو,喬爾盧',\n",
       "   'region': 'TR.59',\n",
       "   'country_': 'TURKEY',\n",
       "   'cosine_similarity': 0.5860780706540791}]}"
      ]
     },
     "execution_count": 61,
     "metadata": {},
     "output_type": "execute_result"
    }
   ],
   "source": [
    "get_most_similar('коленинград')"
   ]
  },
  {
   "cell_type": "markdown",
   "id": "10360166",
   "metadata": {},
   "source": [
    "## 4. Вывод"
   ]
  },
  {
   "cell_type": "markdown",
   "id": "ed94d156",
   "metadata": {},
   "source": [
    "Для решения поставленной задачи был использован метод преобразования названий городов в эмбединги и сравнение их с уже находящимися в базе данных. Для получения эмбедингов были протестированы 2 модели. Одна на основе предобученной модели 'distiluse-base-multilingual-cased-v2', вторая - 'LaBSE'. Лучший результат показала LaBSE. Как видно из приведенных тестов  разработанная функция хорошо справляется с мэчингов городов даже при наличиее нескольких ошибок в искомом названии города."
   ]
  }
 ],
 "metadata": {
  "kernelspec": {
   "display_name": "Python 3 (ipykernel)",
   "language": "python",
   "name": "python3"
  },
  "language_info": {
   "codemirror_mode": {
    "name": "ipython",
    "version": 3
   },
   "file_extension": ".py",
   "mimetype": "text/x-python",
   "name": "python",
   "nbconvert_exporter": "python",
   "pygments_lexer": "ipython3",
   "version": "3.10.9"
  }
 },
 "nbformat": 4,
 "nbformat_minor": 5
}
